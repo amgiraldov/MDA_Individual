{
 "cells": [
  {
   "cell_type": "markdown",
   "id": "46204699",
   "metadata": {},
   "source": [
    "#  Retrieving data\n"
   ]
  },
  {
   "cell_type": "markdown",
   "id": "30b53af2",
   "metadata": {},
   "source": [
    "A database will be consolidated with the links and description of the news between April 1, 2022 and August 14, 2022. The following terms were searched in the same time period: \"heatwaves\" and \"heat wave\".\n",
    "\n",
    "**The computer with which the google news webscrapping was performed is in Spanish, that is why in the newsWebscrapping function, the expression \"Página siguiente\" is searched. (means next page)**"
   ]
  },
  {
   "cell_type": "code",
   "execution_count": 1,
   "id": "cbc537b3",
   "metadata": {},
   "outputs": [],
   "source": [
    "# libraries\n",
    "import pandas as pd\n",
    "import os\n",
    "import json\n",
    "import re\n",
    "\n"
   ]
  },
  {
   "cell_type": "code",
   "execution_count": 2,
   "id": "7a3f4fbe",
   "metadata": {},
   "outputs": [],
   "source": [
    "%run -i 00functions.py"
   ]
  },
  {
   "cell_type": "code",
   "execution_count": 3,
   "id": "f16fe5c4",
   "metadata": {},
   "outputs": [],
   "source": [
    "# Global definitions\n",
    "directory_path = os.getcwd()"
   ]
  },
  {
   "cell_type": "markdown",
   "id": "d243eb09",
   "metadata": {},
   "source": [
    "# Getting news"
   ]
  },
  {
   "cell_type": "markdown",
   "id": "304f510e",
   "metadata": {},
   "source": [
    "At this point, a database will be consolidated with the links and description of the news between April 1, 2022 and August 14, 2022. The following terms were searched in the same time period: \"heatwaves\" and \"heat wave\"."
   ]
  },
  {
   "cell_type": "markdown",
   "id": "61465dd0",
   "metadata": {},
   "source": [
    "Searching for \"heat waves\""
   ]
  },
  {
   "cell_type": "code",
   "execution_count": 4,
   "id": "031b51ca",
   "metadata": {},
   "outputs": [],
   "source": [
    "root = \"https://www.google.com/\"\n",
    "link = \"https://www.google.com/search?q=heat+waves&biw=1707&bih=809&sxsrf=ALiCzsYmra4QMiwZSvi0A8s4mT3Mb3Y7Nw%3A1660498290938&source=lnt&tbs=cdr%3A1%2Ccd_min%3A4%2F1%2F2022%2Ccd_max%3A8%2F14%2F2022&tbm=nws\""
   ]
  },
  {
   "cell_type": "code",
   "execution_count": 5,
   "id": "74d6b854",
   "metadata": {},
   "outputs": [],
   "source": [
    "newsWebscrapping(link)"
   ]
  },
  {
   "cell_type": "markdown",
   "id": "3ef3b6f9",
   "metadata": {},
   "source": [
    "Searching for \"heatwaves\""
   ]
  },
  {
   "cell_type": "code",
   "execution_count": 6,
   "id": "2903c44e",
   "metadata": {},
   "outputs": [],
   "source": [
    "link2 = \"https://www.google.com/search?q=heatwaves&biw=1707&bih=809&tbs=cdr%3A1%2Ccd_min%3A4%2F1%2F2022%2Ccd_max%3A8%2F14%2F2022&tbm=nws&sxsrf=ALiCzsapDzA21KwsuLrSDvB7aIXU0erJNg%3A1660498447572&ei=DzL5YuOwIpqqwbkP6cKH-AU&ved=0ahUKEwij9Pfg7sb5AhUaVTABHWnhAV8Q4dUDCA0&oq=heatwaves&gs_lcp=Cgxnd3Mtd2l6LW5ld3MQDDIGCAAQHhAHMgYIABAeEAcyBggAEB4QBzIGCAAQHhAHMgYIABAeEAcyBggAEB4QBzIGCAAQHhAHMgYIABAeEAcyBggAEB4QBzIGCAAQHhAHOggIABCABBCxAzoFCAAQgARQsgZYsgZgsxNoAHAAeACAAWWIAcYBkgEDMS4xmAEAoAEBwAEB&sclient=gws-wiz-news\""
   ]
  },
  {
   "cell_type": "code",
   "execution_count": 7,
   "id": "da6eb660",
   "metadata": {},
   "outputs": [],
   "source": [
    "newsWebscrapping(link2)"
   ]
  },
  {
   "cell_type": "code",
   "execution_count": null,
   "id": "6a9bf0fe",
   "metadata": {},
   "outputs": [],
   "source": []
  }
 ],
 "metadata": {
  "kernelspec": {
   "display_name": "Python 3 (ipykernel)",
   "language": "python",
   "name": "python3"
  },
  "language_info": {
   "codemirror_mode": {
    "name": "ipython",
    "version": 3
   },
   "file_extension": ".py",
   "mimetype": "text/x-python",
   "name": "python",
   "nbconvert_exporter": "python",
   "pygments_lexer": "ipython3",
   "version": "3.8.13"
  }
 },
 "nbformat": 4,
 "nbformat_minor": 5
}
