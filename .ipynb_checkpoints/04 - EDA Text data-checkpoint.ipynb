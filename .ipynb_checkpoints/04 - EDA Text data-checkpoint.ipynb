{
 "cells": [
  {
   "cell_type": "markdown",
   "id": "46204699",
   "metadata": {},
   "source": [
    "# 04 - EDA Text data\n"
   ]
  },
  {
   "cell_type": "markdown",
   "id": "475f4538",
   "metadata": {},
   "source": [
    "### Global definitions"
   ]
  },
  {
   "cell_type": "code",
   "execution_count": 10,
   "id": "cbc537b3",
   "metadata": {},
   "outputs": [],
   "source": [
    "# libraries\n",
    "import pandas as pd\n",
    "import os\n",
    "import json\n",
    "import re\n",
    "import plotly.express as px\n",
    "import plotly.graph_objects as go\n",
    "from nltk.tokenize import sent_tokenize, word_tokenize"
   ]
  },
  {
   "cell_type": "code",
   "execution_count": 11,
   "id": "aa01b488",
   "metadata": {},
   "outputs": [],
   "source": [
    "%run -i 00functions.py"
   ]
  },
  {
   "cell_type": "code",
   "execution_count": 12,
   "id": "f16fe5c4",
   "metadata": {},
   "outputs": [],
   "source": [
    "# Global definitions\n",
    "directory_path = os.getcwd()"
   ]
  },
  {
   "cell_type": "markdown",
   "id": "4c682dad",
   "metadata": {},
   "source": [
    "### Reading data"
   ]
  },
  {
   "cell_type": "code",
   "execution_count": 13,
   "id": "5ccab27a",
   "metadata": {},
   "outputs": [
    {
     "data": {
      "text/html": [
       "<div>\n",
       "<style scoped>\n",
       "    .dataframe tbody tr th:only-of-type {\n",
       "        vertical-align: middle;\n",
       "    }\n",
       "\n",
       "    .dataframe tbody tr th {\n",
       "        vertical-align: top;\n",
       "    }\n",
       "\n",
       "    .dataframe thead th {\n",
       "        text-align: right;\n",
       "    }\n",
       "</style>\n",
       "<table border=\"1\" class=\"dataframe\">\n",
       "  <thead>\n",
       "    <tr style=\"text-align: right;\">\n",
       "      <th></th>\n",
       "      <th>Unnamed: 0.1</th>\n",
       "      <th>Unnamed: 0</th>\n",
       "      <th>link</th>\n",
       "      <th>title</th>\n",
       "      <th>text</th>\n",
       "      <th>keywords</th>\n",
       "      <th>summary</th>\n",
       "      <th>text1</th>\n",
       "      <th>summary1</th>\n",
       "      <th>title1</th>\n",
       "    </tr>\n",
       "  </thead>\n",
       "  <tbody>\n",
       "    <tr>\n",
       "      <th>0</th>\n",
       "      <td>0</td>\n",
       "      <td>0</td>\n",
       "      <td>https://www.cbc.ca/news/science/naming-heat-wa...</td>\n",
       "      <td>International project to name heat waves met w...</td>\n",
       "      <td>As climate change makes heat waves worse, an i...</td>\n",
       "      <td>['waves', 'heat', 'skepticism', 'wave', 'think...</td>\n",
       "      <td>As climate change makes heat waves worse, an i...</td>\n",
       "      <td>climate change make heat wave bad internationa...</td>\n",
       "      <td>climate change make heat wave bad internationa...</td>\n",
       "      <td>international project heat wave meet skepticis...</td>\n",
       "    </tr>\n",
       "    <tr>\n",
       "      <th>1</th>\n",
       "      <td>1</td>\n",
       "      <td>0</td>\n",
       "      <td>https://www.dw.com/en/germany-battles-heat-wav...</td>\n",
       "      <td>Germany battles heat waves with drinking water...</td>\n",
       "      <td>At the drinking fountain outside Berlin's busy...</td>\n",
       "      <td>['tap', 'waves', 'heat', 'water', 'fountains',...</td>\n",
       "      <td>\"It can only be a good thing to have more drin...</td>\n",
       "      <td>drinking fountain outside berlin busy gesundbr...</td>\n",
       "      <td>good thing drinking fountain heat unbearable h...</td>\n",
       "      <td>germany battle heat wave drink water fountain</td>\n",
       "    </tr>\n",
       "    <tr>\n",
       "      <th>2</th>\n",
       "      <td>2</td>\n",
       "      <td>0</td>\n",
       "      <td>https://www.foxweather.com/weather-news/heat-w...</td>\n",
       "      <td>Streaking in the 90s: Cities across US set rec...</td>\n",
       "      <td>An extended heat wave gripping the Northeast o...</td>\n",
       "      <td>['waves', 'heat', 'records', 'streaking', 'day...</td>\n",
       "      <td>An extended heat wave gripping the Northeast o...</td>\n",
       "      <td>extended heat wave grip northeast past day set...</td>\n",
       "      <td>extended heat wave grip northeast past day set...</td>\n",
       "      <td>streak city set record heat wave degree</td>\n",
       "    </tr>\n",
       "    <tr>\n",
       "      <th>3</th>\n",
       "      <td>3</td>\n",
       "      <td>0</td>\n",
       "      <td>https://www.usatoday.com/story/news/nation/202...</td>\n",
       "      <td>Weather forecast: Heat waves may now get names...</td>\n",
       "      <td>This summer, Seville, a city in southwestern S...</td>\n",
       "      <td>['waves', 'heat', 'olalla', 'wave', 'forecast'...</td>\n",
       "      <td>This summer, Seville, a city in southwestern S...</td>\n",
       "      <td>summer seville city southwestern spain experie...</td>\n",
       "      <td>summer seville city southwestern spain experie...</td>\n",
       "      <td>weather forecast heat wave name zoe spain</td>\n",
       "    </tr>\n",
       "    <tr>\n",
       "      <th>4</th>\n",
       "      <td>4</td>\n",
       "      <td>0</td>\n",
       "      <td>https://www.grid.news/story/climate/2022/08/09...</td>\n",
       "      <td>Extreme heat waves show the ultimate climate i...</td>\n",
       "      <td>The road to an unlivable climate isn’t exactly...</td>\n",
       "      <td>['waves', 'heat', 'thought', 'wetbulb', 'unwor...</td>\n",
       "      <td>The road to an unlivable climate isn’t exactly...</td>\n",
       "      <td>road unlivable climate isn exactly scenic rout...</td>\n",
       "      <td>road unlivable climate isn exactly scenic rout...</td>\n",
       "      <td>extreme heat wave ultimate climate impact arri...</td>\n",
       "    </tr>\n",
       "    <tr>\n",
       "      <th>...</th>\n",
       "      <td>...</td>\n",
       "      <td>...</td>\n",
       "      <td>...</td>\n",
       "      <td>...</td>\n",
       "      <td>...</td>\n",
       "      <td>...</td>\n",
       "      <td>...</td>\n",
       "      <td>...</td>\n",
       "      <td>...</td>\n",
       "      <td>...</td>\n",
       "    </tr>\n",
       "    <tr>\n",
       "      <th>451</th>\n",
       "      <td>456</td>\n",
       "      <td>0</td>\n",
       "      <td>https://www.dw.com/en/climate-crisis-heat-baby...</td>\n",
       "      <td>Indian heatwaves threaten maternal and baby he...</td>\n",
       "      <td>The heatwave that swept across South Asia in A...</td>\n",
       "      <td>['baby', 'heat', 'health', 'india', 'indian', ...</td>\n",
       "      <td>With climate change exacerbating extreme heat ...</td>\n",
       "      <td>heatwave sweep south asia april come bad time ...</td>\n",
       "      <td>climate change exacerbate extreme heat part wo...</td>\n",
       "      <td>indian heatwave threaten maternal baby health</td>\n",
       "    </tr>\n",
       "    <tr>\n",
       "      <th>452</th>\n",
       "      <td>457</td>\n",
       "      <td>0</td>\n",
       "      <td>https://www.gov.uk/government/publications/hea...</td>\n",
       "      <td>Looking after children and those in early year...</td>\n",
       "      <td>Children’s susceptibility to high temperatures...</td>\n",
       "      <td>['high', 'heat', 'water', 'temperature', 'scho...</td>\n",
       "      <td>Children’s susceptibility to high temperatures...</td>\n",
       "      <td>child susceptibility high temperature vary yea...</td>\n",
       "      <td>child susceptibility high temperature vary yea...</td>\n",
       "      <td>look child early year setting heatwave teacher...</td>\n",
       "    </tr>\n",
       "    <tr>\n",
       "      <th>453</th>\n",
       "      <td>458</td>\n",
       "      <td>0</td>\n",
       "      <td>https://www.ft.com/content/48f20f75-92aa-40d5-...</td>\n",
       "      <td>Subscribe to read</td>\n",
       "      <td>Pay based on use\\n\\nGet Started\\n\\nPurchase a ...</td>\n",
       "      <td>['enterprise', 'ends', 'subscribe', 'startedpu...</td>\n",
       "      <td>Pay based on useGet StartedPurchase a Team or ...</td>\n",
       "      <td>pay base use start purchase team enterprise su...</td>\n",
       "      <td>pay base useget startedpurchase team enterpris...</td>\n",
       "      <td>subscribe read</td>\n",
       "    </tr>\n",
       "    <tr>\n",
       "      <th>454</th>\n",
       "      <td>459</td>\n",
       "      <td>0</td>\n",
       "      <td>https://theconversation.com/a-climate-scientis...</td>\n",
       "      <td>A climate scientist on India and Pakistan’s ho...</td>\n",
       "      <td>The record-shattering heatwave that engulfed m...</td>\n",
       "      <td>['pollution', 'better', 'india', 'quality', 'a...</td>\n",
       "      <td>This is particularly dire for India and Pakist...</td>\n",
       "      <td>record shatter heatwave engulf india pakistan ...</td>\n",
       "      <td>particularly dire india pakistan step improve ...</td>\n",
       "      <td>climate scientist india pakistan horror heatwa...</td>\n",
       "    </tr>\n",
       "    <tr>\n",
       "      <th>455</th>\n",
       "      <td>460</td>\n",
       "      <td>0</td>\n",
       "      <td>https://scitechdaily.com/most-extreme-heatwave...</td>\n",
       "      <td>Most Extreme Heatwaves Ever Recorded Globally ...</td>\n",
       "      <td>A new research study has revealed the most int...</td>\n",
       "      <td>['c', 'research', 'university', 'climate', 'lo...</td>\n",
       "      <td>A new research study has revealed the most int...</td>\n",
       "      <td>new research study reveal intense heatwave wor...</td>\n",
       "      <td>new research study reveal intense heatwave wor...</td>\n",
       "      <td>extreme heatwave record globally reveal new re...</td>\n",
       "    </tr>\n",
       "  </tbody>\n",
       "</table>\n",
       "<p>456 rows × 10 columns</p>\n",
       "</div>"
      ],
      "text/plain": [
       "     Unnamed: 0.1  Unnamed: 0  \\\n",
       "0               0           0   \n",
       "1               1           0   \n",
       "2               2           0   \n",
       "3               3           0   \n",
       "4               4           0   \n",
       "..            ...         ...   \n",
       "451           456           0   \n",
       "452           457           0   \n",
       "453           458           0   \n",
       "454           459           0   \n",
       "455           460           0   \n",
       "\n",
       "                                                  link  \\\n",
       "0    https://www.cbc.ca/news/science/naming-heat-wa...   \n",
       "1    https://www.dw.com/en/germany-battles-heat-wav...   \n",
       "2    https://www.foxweather.com/weather-news/heat-w...   \n",
       "3    https://www.usatoday.com/story/news/nation/202...   \n",
       "4    https://www.grid.news/story/climate/2022/08/09...   \n",
       "..                                                 ...   \n",
       "451  https://www.dw.com/en/climate-crisis-heat-baby...   \n",
       "452  https://www.gov.uk/government/publications/hea...   \n",
       "453  https://www.ft.com/content/48f20f75-92aa-40d5-...   \n",
       "454  https://theconversation.com/a-climate-scientis...   \n",
       "455  https://scitechdaily.com/most-extreme-heatwave...   \n",
       "\n",
       "                                                 title  \\\n",
       "0    International project to name heat waves met w...   \n",
       "1    Germany battles heat waves with drinking water...   \n",
       "2    Streaking in the 90s: Cities across US set rec...   \n",
       "3    Weather forecast: Heat waves may now get names...   \n",
       "4    Extreme heat waves show the ultimate climate i...   \n",
       "..                                                 ...   \n",
       "451  Indian heatwaves threaten maternal and baby he...   \n",
       "452  Looking after children and those in early year...   \n",
       "453                                  Subscribe to read   \n",
       "454  A climate scientist on India and Pakistan’s ho...   \n",
       "455  Most Extreme Heatwaves Ever Recorded Globally ...   \n",
       "\n",
       "                                                  text  \\\n",
       "0    As climate change makes heat waves worse, an i...   \n",
       "1    At the drinking fountain outside Berlin's busy...   \n",
       "2    An extended heat wave gripping the Northeast o...   \n",
       "3    This summer, Seville, a city in southwestern S...   \n",
       "4    The road to an unlivable climate isn’t exactly...   \n",
       "..                                                 ...   \n",
       "451  The heatwave that swept across South Asia in A...   \n",
       "452  Children’s susceptibility to high temperatures...   \n",
       "453  Pay based on use\\n\\nGet Started\\n\\nPurchase a ...   \n",
       "454  The record-shattering heatwave that engulfed m...   \n",
       "455  A new research study has revealed the most int...   \n",
       "\n",
       "                                              keywords  \\\n",
       "0    ['waves', 'heat', 'skepticism', 'wave', 'think...   \n",
       "1    ['tap', 'waves', 'heat', 'water', 'fountains',...   \n",
       "2    ['waves', 'heat', 'records', 'streaking', 'day...   \n",
       "3    ['waves', 'heat', 'olalla', 'wave', 'forecast'...   \n",
       "4    ['waves', 'heat', 'thought', 'wetbulb', 'unwor...   \n",
       "..                                                 ...   \n",
       "451  ['baby', 'heat', 'health', 'india', 'indian', ...   \n",
       "452  ['high', 'heat', 'water', 'temperature', 'scho...   \n",
       "453  ['enterprise', 'ends', 'subscribe', 'startedpu...   \n",
       "454  ['pollution', 'better', 'india', 'quality', 'a...   \n",
       "455  ['c', 'research', 'university', 'climate', 'lo...   \n",
       "\n",
       "                                               summary  \\\n",
       "0    As climate change makes heat waves worse, an i...   \n",
       "1    \"It can only be a good thing to have more drin...   \n",
       "2    An extended heat wave gripping the Northeast o...   \n",
       "3    This summer, Seville, a city in southwestern S...   \n",
       "4    The road to an unlivable climate isn’t exactly...   \n",
       "..                                                 ...   \n",
       "451  With climate change exacerbating extreme heat ...   \n",
       "452  Children’s susceptibility to high temperatures...   \n",
       "453  Pay based on useGet StartedPurchase a Team or ...   \n",
       "454  This is particularly dire for India and Pakist...   \n",
       "455  A new research study has revealed the most int...   \n",
       "\n",
       "                                                 text1  \\\n",
       "0    climate change make heat wave bad internationa...   \n",
       "1    drinking fountain outside berlin busy gesundbr...   \n",
       "2    extended heat wave grip northeast past day set...   \n",
       "3    summer seville city southwestern spain experie...   \n",
       "4    road unlivable climate isn exactly scenic rout...   \n",
       "..                                                 ...   \n",
       "451  heatwave sweep south asia april come bad time ...   \n",
       "452  child susceptibility high temperature vary yea...   \n",
       "453  pay base use start purchase team enterprise su...   \n",
       "454  record shatter heatwave engulf india pakistan ...   \n",
       "455  new research study reveal intense heatwave wor...   \n",
       "\n",
       "                                              summary1  \\\n",
       "0    climate change make heat wave bad internationa...   \n",
       "1    good thing drinking fountain heat unbearable h...   \n",
       "2    extended heat wave grip northeast past day set...   \n",
       "3    summer seville city southwestern spain experie...   \n",
       "4    road unlivable climate isn exactly scenic rout...   \n",
       "..                                                 ...   \n",
       "451  climate change exacerbate extreme heat part wo...   \n",
       "452  child susceptibility high temperature vary yea...   \n",
       "453  pay base useget startedpurchase team enterpris...   \n",
       "454  particularly dire india pakistan step improve ...   \n",
       "455  new research study reveal intense heatwave wor...   \n",
       "\n",
       "                                                title1  \n",
       "0    international project heat wave meet skepticis...  \n",
       "1        germany battle heat wave drink water fountain  \n",
       "2              streak city set record heat wave degree  \n",
       "3            weather forecast heat wave name zoe spain  \n",
       "4    extreme heat wave ultimate climate impact arri...  \n",
       "..                                                 ...  \n",
       "451      indian heatwave threaten maternal baby health  \n",
       "452  look child early year setting heatwave teacher...  \n",
       "453                                     subscribe read  \n",
       "454  climate scientist india pakistan horror heatwa...  \n",
       "455  extreme heatwave record globally reveal new re...  \n",
       "\n",
       "[456 rows x 10 columns]"
      ]
     },
     "execution_count": 13,
     "metadata": {},
     "output_type": "execute_result"
    }
   ],
   "source": [
    "# weatwaves\n",
    "news_path = directory_path + \"/dat/02_newsContentProprocess.xlsx\"\n",
    "news_data = pd.read_excel(news_path)\n",
    "news_data"
   ]
  },
  {
   "cell_type": "markdown",
   "id": "9208c4da",
   "metadata": {},
   "source": [
    "## Exploratory data analysis"
   ]
  },
  {
   "cell_type": "markdown",
   "id": "a6a23b27",
   "metadata": {},
   "source": [
    "### Text"
   ]
  },
  {
   "cell_type": "code",
   "execution_count": 14,
   "id": "7f58a1e1",
   "metadata": {},
   "outputs": [
    {
     "data": {
      "image/svg+xml": [
       "<svg class=\"main-svg\" xmlns=\"http://www.w3.org/2000/svg\" xmlns:xlink=\"http://www.w3.org/1999/xlink\" width=\"700\" height=\"500\" style=\"\" viewBox=\"0 0 700 500\"><rect x=\"0\" y=\"0\" width=\"700\" height=\"500\" style=\"fill: rgb(255, 255, 255); fill-opacity: 1;\"/><defs id=\"defs-c0985e\"><g class=\"clips\"><clipPath id=\"clipc0985exyplot\" class=\"plotclip\"><rect width=\"540\" height=\"281\"/></clipPath><clipPath class=\"axesclip\" id=\"clipc0985ex\"><rect x=\"80\" y=\"0\" width=\"540\" height=\"500\"/></clipPath><clipPath class=\"axesclip\" id=\"clipc0985ey\"><rect x=\"0\" y=\"100\" width=\"700\" height=\"281\"/></clipPath><clipPath class=\"axesclip\" id=\"clipc0985exy\"><rect x=\"80\" y=\"100\" width=\"540\" height=\"281\"/></clipPath></g><g class=\"gradients\"/><g class=\"patterns\"/></defs><g class=\"bglayer\"><rect class=\"bg\" x=\"80\" y=\"100\" width=\"540\" height=\"281\" style=\"fill: rgb(229, 236, 246); fill-opacity: 1; stroke-width: 0;\"/></g><g class=\"layer-below\"><g class=\"imagelayer\"/><g class=\"shapelayer\"/></g><g class=\"cartesianlayer\"><g class=\"subplot xy\"><g class=\"layer-subplot\"><g class=\"shapelayer\"/><g class=\"imagelayer\"/></g><g class=\"minor-gridlayer\"><g class=\"x\"/><g class=\"y\"/></g><g class=\"gridlayer\"><g class=\"x\"/><g class=\"y\"><path class=\"ygrid crisp\" transform=\"translate(0,321.40999999999997)\" d=\"M80,0h540\" style=\"stroke: rgb(255, 255, 255); stroke-opacity: 1; stroke-width: 1px;\"/><path class=\"ygrid crisp\" transform=\"translate(0,261.83000000000004)\" d=\"M80,0h540\" style=\"stroke: rgb(255, 255, 255); stroke-opacity: 1; stroke-width: 1px;\"/><path class=\"ygrid crisp\" transform=\"translate(0,202.24)\" d=\"M80,0h540\" style=\"stroke: rgb(255, 255, 255); stroke-opacity: 1; stroke-width: 1px;\"/><path class=\"ygrid crisp\" transform=\"translate(0,142.65)\" d=\"M80,0h540\" style=\"stroke: rgb(255, 255, 255); stroke-opacity: 1; stroke-width: 1px;\"/></g></g><g class=\"zerolinelayer\"><path class=\"yzl zl crisp\" transform=\"translate(0,381)\" d=\"M80,0h540\" style=\"stroke: rgb(255, 255, 255); stroke-opacity: 1; stroke-width: 2px;\"/></g><path class=\"xlines-below\"/><path class=\"ylines-below\"/><g class=\"overlines-below\"/><g class=\"xaxislayer-below\"/><g class=\"yaxislayer-below\"/><g class=\"overaxes-below\"/><g class=\"plot\" transform=\"translate(80,100)\" clip-path=\"url(#clipc0985exyplot)\"><g class=\"barlayer mlayer\"><g class=\"trace bars\" style=\"opacity: 0.6;\"><g class=\"points\"><g class=\"point\"><path d=\"M2.16,281V14.05H19.44V281Z\" style=\"vector-effect: non-scaling-stroke; opacity: 1; stroke-width: 1.5px; fill: rgb(95, 158, 160); fill-opacity: 1; stroke: rgb(95, 158, 160); stroke-opacity: 1;\"/></g><g class=\"point\"><path d=\"M23.76,281V136.32H41.04V281Z\" style=\"vector-effect: non-scaling-stroke; opacity: 1; stroke-width: 1.5px; fill: rgb(95, 158, 160); fill-opacity: 1; stroke: rgb(95, 158, 160); stroke-opacity: 1;\"/></g><g class=\"point\"><path d=\"M45.36,281V147.64H62.64V281Z\" style=\"vector-effect: non-scaling-stroke; opacity: 1; stroke-width: 1.5px; fill: rgb(95, 158, 160); fill-opacity: 1; stroke: rgb(95, 158, 160); stroke-opacity: 1;\"/></g><g class=\"point\"><path d=\"M66.96,281V148.24H84.24V281Z\" style=\"vector-effect: non-scaling-stroke; opacity: 1; stroke-width: 1.5px; fill: rgb(95, 158, 160); fill-opacity: 1; stroke: rgb(95, 158, 160); stroke-opacity: 1;\"/></g><g class=\"point\"><path d=\"M88.56,281V156.7H105.84V281Z\" style=\"vector-effect: non-scaling-stroke; opacity: 1; stroke-width: 1.5px; fill: rgb(95, 158, 160); fill-opacity: 1; stroke: rgb(95, 158, 160); stroke-opacity: 1;\"/></g><g class=\"point\"><path d=\"M110.16,281V164.45H127.44V281Z\" style=\"vector-effect: non-scaling-stroke; opacity: 1; stroke-width: 1.5px; fill: rgb(95, 158, 160); fill-opacity: 1; stroke: rgb(95, 158, 160); stroke-opacity: 1;\"/></g><g class=\"point\"><path d=\"M131.76,281V172.55H149.04V281Z\" style=\"vector-effect: non-scaling-stroke; opacity: 1; stroke-width: 1.5px; fill: rgb(95, 158, 160); fill-opacity: 1; stroke: rgb(95, 158, 160); stroke-opacity: 1;\"/></g><g class=\"point\"><path d=\"M153.36,281V172.67H170.64V281Z\" style=\"vector-effect: non-scaling-stroke; opacity: 1; stroke-width: 1.5px; fill: rgb(95, 158, 160); fill-opacity: 1; stroke: rgb(95, 158, 160); stroke-opacity: 1;\"/></g><g class=\"point\"><path d=\"M174.96,281V175.41H192.24V281Z\" style=\"vector-effect: non-scaling-stroke; opacity: 1; stroke-width: 1.5px; fill: rgb(95, 158, 160); fill-opacity: 1; stroke: rgb(95, 158, 160); stroke-opacity: 1;\"/></g><g class=\"point\"><path d=\"M196.56,281V175.89H213.84V281Z\" style=\"vector-effect: non-scaling-stroke; opacity: 1; stroke-width: 1.5px; fill: rgb(95, 158, 160); fill-opacity: 1; stroke: rgb(95, 158, 160); stroke-opacity: 1;\"/></g><g class=\"point\"><path d=\"M218.16,281V176.96H235.44V281Z\" style=\"vector-effect: non-scaling-stroke; opacity: 1; stroke-width: 1.5px; fill: rgb(95, 158, 160); fill-opacity: 1; stroke: rgb(95, 158, 160); stroke-opacity: 1;\"/></g><g class=\"point\"><path d=\"M239.76,281V177.91H257.04V281Z\" style=\"vector-effect: non-scaling-stroke; opacity: 1; stroke-width: 1.5px; fill: rgb(95, 158, 160); fill-opacity: 1; stroke: rgb(95, 158, 160); stroke-opacity: 1;\"/></g><g class=\"point\"><path d=\"M261.36,281V181.25H278.64V281Z\" style=\"vector-effect: non-scaling-stroke; opacity: 1; stroke-width: 1.5px; fill: rgb(95, 158, 160); fill-opacity: 1; stroke: rgb(95, 158, 160); stroke-opacity: 1;\"/></g><g class=\"point\"><path d=\"M282.96,281V192.22H300.24V281Z\" style=\"vector-effect: non-scaling-stroke; opacity: 1; stroke-width: 1.5px; fill: rgb(95, 158, 160); fill-opacity: 1; stroke: rgb(95, 158, 160); stroke-opacity: 1;\"/></g><g class=\"point\"><path d=\"M304.56,281V205.92H321.84V281Z\" style=\"vector-effect: non-scaling-stroke; opacity: 1; stroke-width: 1.5px; fill: rgb(95, 158, 160); fill-opacity: 1; stroke: rgb(95, 158, 160); stroke-opacity: 1;\"/></g><g class=\"point\"><path d=\"M326.16,281V207.47H343.44V281Z\" style=\"vector-effect: non-scaling-stroke; opacity: 1; stroke-width: 1.5px; fill: rgb(95, 158, 160); fill-opacity: 1; stroke: rgb(95, 158, 160); stroke-opacity: 1;\"/></g><g class=\"point\"><path d=\"M347.76,281V211.76H365.04V281Z\" style=\"vector-effect: non-scaling-stroke; opacity: 1; stroke-width: 1.5px; fill: rgb(95, 158, 160); fill-opacity: 1; stroke: rgb(95, 158, 160); stroke-opacity: 1;\"/></g><g class=\"point\"><path d=\"M369.36,281V212.59H386.64V281Z\" style=\"vector-effect: non-scaling-stroke; opacity: 1; stroke-width: 1.5px; fill: rgb(95, 158, 160); fill-opacity: 1; stroke: rgb(95, 158, 160); stroke-opacity: 1;\"/></g><g class=\"point\"><path d=\"M390.96,281V212.95H408.24V281Z\" style=\"vector-effect: non-scaling-stroke; opacity: 1; stroke-width: 1.5px; fill: rgb(95, 158, 160); fill-opacity: 1; stroke: rgb(95, 158, 160); stroke-opacity: 1;\"/></g><g class=\"point\"><path d=\"M412.56,281V213.55H429.84V281Z\" style=\"vector-effect: non-scaling-stroke; opacity: 1; stroke-width: 1.5px; fill: rgb(95, 158, 160); fill-opacity: 1; stroke: rgb(95, 158, 160); stroke-opacity: 1;\"/></g><g class=\"point\"><path d=\"M434.16,281V216.53H451.44V281Z\" style=\"vector-effect: non-scaling-stroke; opacity: 1; stroke-width: 1.5px; fill: rgb(95, 158, 160); fill-opacity: 1; stroke: rgb(95, 158, 160); stroke-opacity: 1;\"/></g><g class=\"point\"><path d=\"M455.76,281V219.27H473.04V281Z\" style=\"vector-effect: non-scaling-stroke; opacity: 1; stroke-width: 1.5px; fill: rgb(95, 158, 160); fill-opacity: 1; stroke: rgb(95, 158, 160); stroke-opacity: 1;\"/></g><g class=\"point\"><path d=\"M477.36,281V222.25H494.64V281Z\" style=\"vector-effect: non-scaling-stroke; opacity: 1; stroke-width: 1.5px; fill: rgb(95, 158, 160); fill-opacity: 1; stroke: rgb(95, 158, 160); stroke-opacity: 1;\"/></g><g class=\"point\"><path d=\"M498.96,281V222.6H516.24V281Z\" style=\"vector-effect: non-scaling-stroke; opacity: 1; stroke-width: 1.5px; fill: rgb(95, 158, 160); fill-opacity: 1; stroke: rgb(95, 158, 160); stroke-opacity: 1;\"/></g><g class=\"point\"><path d=\"M520.56,281V224.63H537.84V281Z\" style=\"vector-effect: non-scaling-stroke; opacity: 1; stroke-width: 1.5px; fill: rgb(95, 158, 160); fill-opacity: 1; stroke: rgb(95, 158, 160); stroke-opacity: 1;\"/></g></g></g></g></g><g class=\"overplot\"/><path class=\"xlines-above crisp\" d=\"M0,0\" style=\"fill: none;\"/><path class=\"ylines-above crisp\" d=\"M0,0\" style=\"fill: none;\"/><g class=\"overlines-above\"/><g class=\"xaxislayer-above\"><g class=\"xtick\"><text text-anchor=\"start\" x=\"0\" y=\"394\" transform=\"translate(90.8,0) rotate(90,0,388)\" style=\"font-family: 'Open Sans', verdana, arial, sans-serif; font-size: 12px; fill: rgb(42, 63, 95); fill-opacity: 1; white-space: pre; opacity: 1;\">temperature</text></g><g class=\"xtick\"><text text-anchor=\"start\" x=\"0\" y=\"394\" transform=\"translate(112.4,0) rotate(90,0,388)\" style=\"font-family: 'Open Sans', verdana, arial, sans-serif; font-size: 12px; fill: rgb(42, 63, 95); fill-opacity: 1; white-space: pre; opacity: 1;\">climate</text></g><g class=\"xtick\"><text text-anchor=\"start\" x=\"0\" y=\"394\" transform=\"translate(134,0) rotate(90,0,388)\" style=\"font-family: 'Open Sans', verdana, arial, sans-serif; font-size: 12px; fill: rgb(42, 63, 95); fill-opacity: 1; white-space: pre; opacity: 1;\">people</text></g><g class=\"xtick\"><text text-anchor=\"start\" x=\"0\" y=\"394\" transform=\"translate(155.6,0) rotate(90,0,388)\" style=\"font-family: 'Open Sans', verdana, arial, sans-serif; font-size: 12px; fill: rgb(42, 63, 95); fill-opacity: 1; white-space: pre; opacity: 1;\">high</text></g><g class=\"xtick\"><text text-anchor=\"start\" x=\"0\" y=\"394\" transform=\"translate(177.2,0) rotate(90,0,388)\" style=\"font-family: 'Open Sans', verdana, arial, sans-serif; font-size: 12px; fill: rgb(42, 63, 95); fill-opacity: 1; white-space: pre; opacity: 1;\">record</text></g><g class=\"xtick\"><text text-anchor=\"start\" x=\"0\" y=\"394\" transform=\"translate(198.8,0) rotate(90,0,388)\" style=\"font-family: 'Open Sans', verdana, arial, sans-serif; font-size: 12px; fill: rgb(42, 63, 95); fill-opacity: 1; white-space: pre; opacity: 1;\">hot</text></g><g class=\"xtick\"><text text-anchor=\"start\" x=\"0\" y=\"394\" transform=\"translate(220.4,0) rotate(90,0,388)\" style=\"font-family: 'Open Sans', verdana, arial, sans-serif; font-size: 12px; fill: rgb(42, 63, 95); fill-opacity: 1; white-space: pre; opacity: 1;\">day</text></g><g class=\"xtick\"><text text-anchor=\"start\" x=\"0\" y=\"394\" transform=\"translate(242,0) rotate(90,0,388)\" style=\"font-family: 'Open Sans', verdana, arial, sans-serif; font-size: 12px; fill: rgb(42, 63, 95); fill-opacity: 1; white-space: pre; opacity: 1;\">year</text></g><g class=\"xtick\"><text text-anchor=\"start\" x=\"0\" y=\"394\" transform=\"translate(263.6,0) rotate(90,0,388)\" style=\"font-family: 'Open Sans', verdana, arial, sans-serif; font-size: 12px; fill: rgb(42, 63, 95); fill-opacity: 1; white-space: pre; opacity: 1;\">weather</text></g><g class=\"xtick\"><text text-anchor=\"start\" x=\"0\" y=\"394\" transform=\"translate(285.2,0) rotate(90,0,388)\" style=\"font-family: 'Open Sans', verdana, arial, sans-serif; font-size: 12px; fill: rgb(42, 63, 95); fill-opacity: 1; white-space: pre; opacity: 1;\">cool</text></g><g class=\"xtick\"><text text-anchor=\"start\" x=\"0\" y=\"394\" transform=\"translate(306.8,0) rotate(90,0,388)\" style=\"font-family: 'Open Sans', verdana, arial, sans-serif; font-size: 12px; fill: rgb(42, 63, 95); fill-opacity: 1; white-space: pre; opacity: 1;\">extreme</text></g><g class=\"xtick\"><text text-anchor=\"start\" x=\"0\" y=\"394\" transform=\"translate(328.4,0) rotate(90,0,388)\" style=\"font-family: 'Open Sans', verdana, arial, sans-serif; font-size: 12px; fill: rgb(42, 63, 95); fill-opacity: 1; white-space: pre; opacity: 1;\">degree</text></g><g class=\"xtick\"><text text-anchor=\"start\" x=\"0\" y=\"394\" transform=\"translate(350,0) rotate(90,0,388)\" style=\"font-family: 'Open Sans', verdana, arial, sans-serif; font-size: 12px; fill: rgb(42, 63, 95); fill-opacity: 1; white-space: pre; opacity: 1;\">change</text></g><g class=\"xtick\"><text text-anchor=\"start\" x=\"0\" y=\"394\" transform=\"translate(371.6,0) rotate(90,0,388)\" style=\"font-family: 'Open Sans', verdana, arial, sans-serif; font-size: 12px; fill: rgb(42, 63, 95); fill-opacity: 1; white-space: pre; opacity: 1;\">air</text></g><g class=\"xtick\"><text text-anchor=\"start\" x=\"0\" y=\"394\" transform=\"translate(393.2,0) rotate(90,0,388)\" style=\"font-family: 'Open Sans', verdana, arial, sans-serif; font-size: 12px; fill: rgb(42, 63, 95); fill-opacity: 1; white-space: pre; opacity: 1;\">water</text></g><g class=\"xtick\"><text text-anchor=\"start\" x=\"0\" y=\"394\" transform=\"translate(414.8,0) rotate(90,0,388)\" style=\"font-family: 'Open Sans', verdana, arial, sans-serif; font-size: 12px; fill: rgb(42, 63, 95); fill-opacity: 1; white-space: pre; opacity: 1;\">time</text></g><g class=\"xtick\"><text text-anchor=\"start\" x=\"0\" y=\"394\" transform=\"translate(436.4,0) rotate(90,0,388)\" style=\"font-family: 'Open Sans', verdana, arial, sans-serif; font-size: 12px; fill: rgb(42, 63, 95); fill-opacity: 1; white-space: pre; opacity: 1;\">july</text></g><g class=\"xtick\"><text text-anchor=\"start\" x=\"0\" y=\"394\" transform=\"translate(458,0) rotate(90,0,388)\" style=\"font-family: 'Open Sans', verdana, arial, sans-serif; font-size: 12px; fill: rgb(42, 63, 95); fill-opacity: 1; white-space: pre; opacity: 1;\">health</text></g><g class=\"xtick\"><text text-anchor=\"start\" x=\"0\" y=\"394\" transform=\"translate(479.6,0) rotate(90,0,388)\" style=\"font-family: 'Open Sans', verdana, arial, sans-serif; font-size: 12px; fill: rgb(42, 63, 95); fill-opacity: 1; white-space: pre; opacity: 1;\">summer</text></g><g class=\"xtick\"><text text-anchor=\"start\" x=\"0\" y=\"394\" transform=\"translate(501.2,0) rotate(90,0,388)\" style=\"font-family: 'Open Sans', verdana, arial, sans-serif; font-size: 12px; fill: rgb(42, 63, 95); fill-opacity: 1; white-space: pre; opacity: 1;\">week</text></g><g class=\"xtick\"><text text-anchor=\"start\" x=\"0\" y=\"394\" transform=\"translate(522.8,0) rotate(90,0,388)\" style=\"font-family: 'Open Sans', verdana, arial, sans-serif; font-size: 12px; fill: rgb(42, 63, 95); fill-opacity: 1; white-space: pre; opacity: 1;\">city</text></g><g class=\"xtick\"><text text-anchor=\"start\" x=\"0\" y=\"394\" transform=\"translate(544.4,0) rotate(90,0,388)\" style=\"font-family: 'Open Sans', verdana, arial, sans-serif; font-size: 12px; fill: rgb(42, 63, 95); fill-opacity: 1; white-space: pre; opacity: 1;\">country</text></g><g class=\"xtick\"><text text-anchor=\"start\" x=\"0\" y=\"394\" transform=\"translate(566,0) rotate(90,0,388)\" style=\"font-family: 'Open Sans', verdana, arial, sans-serif; font-size: 12px; fill: rgb(42, 63, 95); fill-opacity: 1; white-space: pre; opacity: 1;\">increase</text></g><g class=\"xtick\"><text text-anchor=\"start\" x=\"0\" y=\"394\" transform=\"translate(587.6,0) rotate(90,0,388)\" style=\"font-family: 'Open Sans', verdana, arial, sans-serif; font-size: 12px; fill: rgb(42, 63, 95); fill-opacity: 1; white-space: pre; opacity: 1;\">europe</text></g><g class=\"xtick\"><text text-anchor=\"start\" x=\"0\" y=\"394\" transform=\"translate(609.2,0) rotate(90,0,388)\" style=\"font-family: 'Open Sans', verdana, arial, sans-serif; font-size: 12px; fill: rgb(42, 63, 95); fill-opacity: 1; white-space: pre; opacity: 1;\">like</text></g></g><g class=\"yaxislayer-above\"><g class=\"ytick\"><text text-anchor=\"end\" x=\"79\" y=\"4.199999999999999\" transform=\"translate(0,381)\" style=\"font-family: 'Open Sans', verdana, arial, sans-serif; font-size: 12px; fill: rgb(42, 63, 95); fill-opacity: 1; white-space: pre; opacity: 1;\">0</text></g><g class=\"ytick\"><text text-anchor=\"end\" x=\"79\" y=\"4.199999999999999\" style=\"font-family: 'Open Sans', verdana, arial, sans-serif; font-size: 12px; fill: rgb(42, 63, 95); fill-opacity: 1; white-space: pre; opacity: 1;\" transform=\"translate(0,321.40999999999997)\">500</text></g><g class=\"ytick\"><text text-anchor=\"end\" x=\"79\" y=\"4.199999999999999\" style=\"font-family: 'Open Sans', verdana, arial, sans-serif; font-size: 12px; fill: rgb(42, 63, 95); fill-opacity: 1; white-space: pre; opacity: 1;\" transform=\"translate(0,261.83000000000004)\">1000</text></g><g class=\"ytick\"><text text-anchor=\"end\" x=\"79\" y=\"4.199999999999999\" style=\"font-family: 'Open Sans', verdana, arial, sans-serif; font-size: 12px; fill: rgb(42, 63, 95); fill-opacity: 1; white-space: pre; opacity: 1;\" transform=\"translate(0,202.24)\">1500</text></g><g class=\"ytick\"><text text-anchor=\"end\" x=\"79\" y=\"4.199999999999999\" style=\"font-family: 'Open Sans', verdana, arial, sans-serif; font-size: 12px; fill: rgb(42, 63, 95); fill-opacity: 1; white-space: pre; opacity: 1;\" transform=\"translate(0,142.65)\">2000</text></g></g><g class=\"overaxes-above\"/></g></g><g class=\"polarlayer\"/><g class=\"smithlayer\"/><g class=\"ternarylayer\"/><g class=\"geolayer\"/><g class=\"funnelarealayer\"/><g class=\"pielayer\"/><g class=\"iciclelayer\"/><g class=\"treemaplayer\"/><g class=\"sunburstlayer\"/><g class=\"glimages\"/><defs id=\"topdefs-c0985e\"><g class=\"clips\"/></defs><g class=\"layer-above\"><g class=\"imagelayer\"/><g class=\"shapelayer\"/></g><g class=\"infolayer\"><g class=\"g-gtitle\"><text class=\"gtitle\" x=\"35\" y=\"50\" text-anchor=\"start\" dy=\"0em\" style=\"font-family: 'Open Sans', verdana, arial, sans-serif; font-size: 17px; fill: rgb(42, 63, 95); opacity: 1; font-weight: normal; white-space: pre;\">Top 25 unigrams for text</text></g><g class=\"g-xtitle\"><text class=\"xtitle\" x=\"350\" y=\"487.690625\" text-anchor=\"middle\" style=\"font-family: 'Open Sans', verdana, arial, sans-serif; font-size: 14px; fill: rgb(42, 63, 95); opacity: 1; font-weight: normal; white-space: pre;\">Unigram</text></g><g class=\"g-ytitle\"><text class=\"ytitle\" transform=\"rotate(-90,23.684375000000003,240.5)\" x=\"23.684375000000003\" y=\"240.5\" text-anchor=\"middle\" style=\"font-family: 'Open Sans', verdana, arial, sans-serif; font-size: 14px; fill: rgb(42, 63, 95); opacity: 1; font-weight: normal; white-space: pre;\">Frequency</text></g></g></svg>"
      ]
     },
     "metadata": {},
     "output_type": "display_data"
    }
   ],
   "source": [
    "common_words = get_top_n_words(news_data['text1'], 25, 1)\n",
    "df = pd.DataFrame(common_words, columns = ['word' , 'count'])\n",
    "df.groupby('word').sum()['count'].sort_values(ascending=False)\n",
    "fig = px.bar(df, x=\"word\", y=\"count\",\n",
    "            title=\"Top 25 unigrams for text\",\n",
    "             labels={\n",
    "                     \"count\": \"Frequency\",\n",
    "                     'word': \"Unigram\"\n",
    "                 })\n",
    "# Customize aspect\n",
    "fig.update_traces(marker_color='cadetblue', marker_line_color='cadetblue',\n",
    "                  marker_line_width=1.5, opacity=0.6)\n",
    "#fig.show()\n",
    "fig.show(renderer=\"svg\")\n"
   ]
  },
  {
   "cell_type": "markdown",
   "id": "aa051977",
   "metadata": {},
   "source": [
    "## Due to the fact that it is not possible to see the rendered graphic in github, the static version wa included."
   ]
  },
  {
   "cell_type": "code",
   "execution_count": 15,
   "id": "11e4dc33",
   "metadata": {},
   "outputs": [
    {
     "data": {
      "image/svg+xml": [
       "<svg class=\"main-svg\" xmlns=\"http://www.w3.org/2000/svg\" xmlns:xlink=\"http://www.w3.org/1999/xlink\" width=\"700\" height=\"500\" style=\"\" viewBox=\"0 0 700 500\"><rect x=\"0\" y=\"0\" width=\"700\" height=\"500\" style=\"fill: rgb(255, 255, 255); fill-opacity: 1;\"/><defs id=\"defs-91515e\"><g class=\"clips\"><clipPath id=\"clip91515exyplot\" class=\"plotclip\"><rect width=\"540\" height=\"281\"/></clipPath><clipPath class=\"axesclip\" id=\"clip91515ex\"><rect x=\"80\" y=\"0\" width=\"540\" height=\"500\"/></clipPath><clipPath class=\"axesclip\" id=\"clip91515ey\"><rect x=\"0\" y=\"100\" width=\"700\" height=\"281\"/></clipPath><clipPath class=\"axesclip\" id=\"clip91515exy\"><rect x=\"80\" y=\"100\" width=\"540\" height=\"281\"/></clipPath></g><g class=\"gradients\"/><g class=\"patterns\"/></defs><g class=\"bglayer\"><rect class=\"bg\" x=\"80\" y=\"100\" width=\"540\" height=\"281\" style=\"fill: rgb(229, 236, 246); fill-opacity: 1; stroke-width: 0;\"/></g><g class=\"layer-below\"><g class=\"imagelayer\"/><g class=\"shapelayer\"/></g><g class=\"cartesianlayer\"><g class=\"subplot xy\"><g class=\"layer-subplot\"><g class=\"shapelayer\"/><g class=\"imagelayer\"/></g><g class=\"minor-gridlayer\"><g class=\"x\"/><g class=\"y\"/></g><g class=\"gridlayer\"><g class=\"x\"/><g class=\"y\"><path class=\"ygrid crisp\" transform=\"translate(0,335.75)\" d=\"M80,0h540\" style=\"stroke: rgb(255, 255, 255); stroke-opacity: 1; stroke-width: 1px;\"/><path class=\"ygrid crisp\" transform=\"translate(0,290.51)\" d=\"M80,0h540\" style=\"stroke: rgb(255, 255, 255); stroke-opacity: 1; stroke-width: 1px;\"/><path class=\"ygrid crisp\" transform=\"translate(0,245.26)\" d=\"M80,0h540\" style=\"stroke: rgb(255, 255, 255); stroke-opacity: 1; stroke-width: 1px;\"/><path class=\"ygrid crisp\" transform=\"translate(0,200.01999999999998)\" d=\"M80,0h540\" style=\"stroke: rgb(255, 255, 255); stroke-opacity: 1; stroke-width: 1px;\"/><path class=\"ygrid crisp\" transform=\"translate(0,154.77)\" d=\"M80,0h540\" style=\"stroke: rgb(255, 255, 255); stroke-opacity: 1; stroke-width: 1px;\"/><path class=\"ygrid crisp\" transform=\"translate(0,109.53)\" d=\"M80,0h540\" style=\"stroke: rgb(255, 255, 255); stroke-opacity: 1; stroke-width: 1px;\"/></g></g><g class=\"zerolinelayer\"><path class=\"yzl zl crisp\" transform=\"translate(0,381)\" d=\"M80,0h540\" style=\"stroke: rgb(255, 255, 255); stroke-opacity: 1; stroke-width: 2px;\"/></g><path class=\"xlines-below\"/><path class=\"ylines-below\"/><g class=\"overlines-below\"/><g class=\"xaxislayer-below\"/><g class=\"yaxislayer-below\"/><g class=\"overaxes-below\"/><g class=\"plot\" transform=\"translate(80,100)\" clip-path=\"url(#clip91515exyplot)\"><g class=\"barlayer mlayer\"><g class=\"trace bars\" style=\"opacity: 0.6;\"><g class=\"points\"><g class=\"point\"><path d=\"M2.16,281V14.05H19.44V281Z\" style=\"vector-effect: non-scaling-stroke; opacity: 1; stroke-width: 1.5px; fill: rgb(95, 158, 160); fill-opacity: 1; stroke: rgb(95, 158, 160); stroke-opacity: 1;\"/></g><g class=\"point\"><path d=\"M23.76,281V59.3H41.04V281Z\" style=\"vector-effect: non-scaling-stroke; opacity: 1; stroke-width: 1.5px; fill: rgb(95, 158, 160); fill-opacity: 1; stroke: rgb(95, 158, 160); stroke-opacity: 1;\"/></g><g class=\"point\"><path d=\"M45.36,281V122.64H62.64V281Z\" style=\"vector-effect: non-scaling-stroke; opacity: 1; stroke-width: 1.5px; fill: rgb(95, 158, 160); fill-opacity: 1; stroke: rgb(95, 158, 160); stroke-opacity: 1;\"/></g><g class=\"point\"><path d=\"M66.96,281V136.21H84.24V281Z\" style=\"vector-effect: non-scaling-stroke; opacity: 1; stroke-width: 1.5px; fill: rgb(95, 158, 160); fill-opacity: 1; stroke: rgb(95, 158, 160); stroke-opacity: 1;\"/></g><g class=\"point\"><path d=\"M88.56,281V140.74H105.84V281Z\" style=\"vector-effect: non-scaling-stroke; opacity: 1; stroke-width: 1.5px; fill: rgb(95, 158, 160); fill-opacity: 1; stroke: rgb(95, 158, 160); stroke-opacity: 1;\"/></g><g class=\"point\"><path d=\"M110.16,281V154.31H127.44V281Z\" style=\"vector-effect: non-scaling-stroke; opacity: 1; stroke-width: 1.5px; fill: rgb(95, 158, 160); fill-opacity: 1; stroke: rgb(95, 158, 160); stroke-opacity: 1;\"/></g><g class=\"point\"><path d=\"M131.76,281V163.36H149.04V281Z\" style=\"vector-effect: non-scaling-stroke; opacity: 1; stroke-width: 1.5px; fill: rgb(95, 158, 160); fill-opacity: 1; stroke: rgb(95, 158, 160); stroke-opacity: 1;\"/></g><g class=\"point\"><path d=\"M153.36,281V190.51H170.64V281Z\" style=\"vector-effect: non-scaling-stroke; opacity: 1; stroke-width: 1.5px; fill: rgb(95, 158, 160); fill-opacity: 1; stroke: rgb(95, 158, 160); stroke-opacity: 1;\"/></g><g class=\"point\"><path d=\"M174.96,281V195.03H192.24V281Z\" style=\"vector-effect: non-scaling-stroke; opacity: 1; stroke-width: 1.5px; fill: rgb(95, 158, 160); fill-opacity: 1; stroke: rgb(95, 158, 160); stroke-opacity: 1;\"/></g><g class=\"point\"><path d=\"M196.56,281V199.56H213.84V281Z\" style=\"vector-effect: non-scaling-stroke; opacity: 1; stroke-width: 1.5px; fill: rgb(95, 158, 160); fill-opacity: 1; stroke: rgb(95, 158, 160); stroke-opacity: 1;\"/></g><g class=\"point\"><path d=\"M218.16,281V204.08H235.44V281Z\" style=\"vector-effect: non-scaling-stroke; opacity: 1; stroke-width: 1.5px; fill: rgb(95, 158, 160); fill-opacity: 1; stroke: rgb(95, 158, 160); stroke-opacity: 1;\"/></g><g class=\"point\"><path d=\"M239.76,281V204.08H257.04V281Z\" style=\"vector-effect: non-scaling-stroke; opacity: 1; stroke-width: 1.5px; fill: rgb(95, 158, 160); fill-opacity: 1; stroke: rgb(95, 158, 160); stroke-opacity: 1;\"/></g><g class=\"point\"><path d=\"M261.36,281V213.13H278.64V281Z\" style=\"vector-effect: non-scaling-stroke; opacity: 1; stroke-width: 1.5px; fill: rgb(95, 158, 160); fill-opacity: 1; stroke: rgb(95, 158, 160); stroke-opacity: 1;\"/></g><g class=\"point\"><path d=\"M282.96,281V213.13H300.24V281Z\" style=\"vector-effect: non-scaling-stroke; opacity: 1; stroke-width: 1.5px; fill: rgb(95, 158, 160); fill-opacity: 1; stroke: rgb(95, 158, 160); stroke-opacity: 1;\"/></g><g class=\"point\"><path d=\"M304.56,281V217.66H321.84V281Z\" style=\"vector-effect: non-scaling-stroke; opacity: 1; stroke-width: 1.5px; fill: rgb(95, 158, 160); fill-opacity: 1; stroke: rgb(95, 158, 160); stroke-opacity: 1;\"/></g><g class=\"point\"><path d=\"M326.16,281V217.66H343.44V281Z\" style=\"vector-effect: non-scaling-stroke; opacity: 1; stroke-width: 1.5px; fill: rgb(95, 158, 160); fill-opacity: 1; stroke: rgb(95, 158, 160); stroke-opacity: 1;\"/></g><g class=\"point\"><path d=\"M347.76,281V217.66H365.04V281Z\" style=\"vector-effect: non-scaling-stroke; opacity: 1; stroke-width: 1.5px; fill: rgb(95, 158, 160); fill-opacity: 1; stroke: rgb(95, 158, 160); stroke-opacity: 1;\"/></g><g class=\"point\"><path d=\"M369.36,281V222.18H386.64V281Z\" style=\"vector-effect: non-scaling-stroke; opacity: 1; stroke-width: 1.5px; fill: rgb(95, 158, 160); fill-opacity: 1; stroke: rgb(95, 158, 160); stroke-opacity: 1;\"/></g><g class=\"point\"><path d=\"M390.96,281V222.18H408.24V281Z\" style=\"vector-effect: non-scaling-stroke; opacity: 1; stroke-width: 1.5px; fill: rgb(95, 158, 160); fill-opacity: 1; stroke: rgb(95, 158, 160); stroke-opacity: 1;\"/></g><g class=\"point\"><path d=\"M412.56,281V222.18H429.84V281Z\" style=\"vector-effect: non-scaling-stroke; opacity: 1; stroke-width: 1.5px; fill: rgb(95, 158, 160); fill-opacity: 1; stroke: rgb(95, 158, 160); stroke-opacity: 1;\"/></g><g class=\"point\"><path d=\"M434.16,281V226.71H451.44V281Z\" style=\"vector-effect: non-scaling-stroke; opacity: 1; stroke-width: 1.5px; fill: rgb(95, 158, 160); fill-opacity: 1; stroke: rgb(95, 158, 160); stroke-opacity: 1;\"/></g><g class=\"point\"><path d=\"M455.76,281V226.71H473.04V281Z\" style=\"vector-effect: non-scaling-stroke; opacity: 1; stroke-width: 1.5px; fill: rgb(95, 158, 160); fill-opacity: 1; stroke: rgb(95, 158, 160); stroke-opacity: 1;\"/></g><g class=\"point\"><path d=\"M477.36,281V226.71H494.64V281Z\" style=\"vector-effect: non-scaling-stroke; opacity: 1; stroke-width: 1.5px; fill: rgb(95, 158, 160); fill-opacity: 1; stroke: rgb(95, 158, 160); stroke-opacity: 1;\"/></g><g class=\"point\"><path d=\"M498.96,281V226.71H516.24V281Z\" style=\"vector-effect: non-scaling-stroke; opacity: 1; stroke-width: 1.5px; fill: rgb(95, 158, 160); fill-opacity: 1; stroke: rgb(95, 158, 160); stroke-opacity: 1;\"/></g><g class=\"point\"><path d=\"M520.56,281V231.23H537.84V281Z\" style=\"vector-effect: non-scaling-stroke; opacity: 1; stroke-width: 1.5px; fill: rgb(95, 158, 160); fill-opacity: 1; stroke: rgb(95, 158, 160); stroke-opacity: 1;\"/></g></g></g></g></g><g class=\"overplot\"/><path class=\"xlines-above crisp\" d=\"M0,0\" style=\"fill: none;\"/><path class=\"ylines-above crisp\" d=\"M0,0\" style=\"fill: none;\"/><g class=\"overlines-above\"/><g class=\"xaxislayer-above\"><g class=\"xtick\"><text text-anchor=\"start\" x=\"0\" y=\"394\" transform=\"translate(90.8,0) rotate(90,0,388)\" style=\"font-family: 'Open Sans', verdana, arial, sans-serif; font-size: 12px; fill: rgb(42, 63, 95); fill-opacity: 1; white-space: pre; opacity: 1;\">europe</text></g><g class=\"xtick\"><text text-anchor=\"start\" x=\"0\" y=\"394\" transform=\"translate(112.4,0) rotate(90,0,388)\" style=\"font-family: 'Open Sans', verdana, arial, sans-serif; font-size: 12px; fill: rgb(42, 63, 95); fill-opacity: 1; white-space: pre; opacity: 1;\">climate</text></g><g class=\"xtick\"><text text-anchor=\"start\" x=\"0\" y=\"394\" transform=\"translate(134,0) rotate(90,0,388)\" style=\"font-family: 'Open Sans', verdana, arial, sans-serif; font-size: 12px; fill: rgb(42, 63, 95); fill-opacity: 1; white-space: pre; opacity: 1;\">record</text></g><g class=\"xtick\"><text text-anchor=\"start\" x=\"0\" y=\"394\" transform=\"translate(155.6,0) rotate(90,0,388)\" style=\"font-family: 'Open Sans', verdana, arial, sans-serif; font-size: 12px; fill: rgb(42, 63, 95); fill-opacity: 1; white-space: pre; opacity: 1;\">extreme</text></g><g class=\"xtick\"><text text-anchor=\"start\" x=\"0\" y=\"394\" transform=\"translate(177.2,0) rotate(90,0,388)\" style=\"font-family: 'Open Sans', verdana, arial, sans-serif; font-size: 12px; fill: rgb(42, 63, 95); fill-opacity: 1; white-space: pre; opacity: 1;\">change</text></g><g class=\"xtick\"><text text-anchor=\"start\" x=\"0\" y=\"394\" transform=\"translate(198.8,0) rotate(90,0,388)\" style=\"font-family: 'Open Sans', verdana, arial, sans-serif; font-size: 12px; fill: rgb(42, 63, 95); fill-opacity: 1; white-space: pre; opacity: 1;\">temperature</text></g><g class=\"xtick\"><text text-anchor=\"start\" x=\"0\" y=\"394\" transform=\"translate(220.4,0) rotate(90,0,388)\" style=\"font-family: 'Open Sans', verdana, arial, sans-serif; font-size: 12px; fill: rgb(42, 63, 95); fill-opacity: 1; white-space: pre; opacity: 1;\">hot</text></g><g class=\"xtick\"><text text-anchor=\"start\" x=\"0\" y=\"394\" transform=\"translate(242,0) rotate(90,0,388)\" style=\"font-family: 'Open Sans', verdana, arial, sans-serif; font-size: 12px; fill: rgb(42, 63, 95); fill-opacity: 1; white-space: pre; opacity: 1;\">health</text></g><g class=\"xtick\"><text text-anchor=\"start\" x=\"0\" y=\"394\" transform=\"translate(263.6,0) rotate(90,0,388)\" style=\"font-family: 'Open Sans', verdana, arial, sans-serif; font-size: 12px; fill: rgb(42, 63, 95); fill-opacity: 1; white-space: pre; opacity: 1;\">new</text></g><g class=\"xtick\"><text text-anchor=\"start\" x=\"0\" y=\"394\" transform=\"translate(285.2,0) rotate(90,0,388)\" style=\"font-family: 'Open Sans', verdana, arial, sans-serif; font-size: 12px; fill: rgb(42, 63, 95); fill-opacity: 1; white-space: pre; opacity: 1;\">weather</text></g><g class=\"xtick\"><text text-anchor=\"start\" x=\"0\" y=\"394\" transform=\"translate(306.8,0) rotate(90,0,388)\" style=\"font-family: 'Open Sans', verdana, arial, sans-serif; font-size: 12px; fill: rgb(42, 63, 95); fill-opacity: 1; white-space: pre; opacity: 1;\">people</text></g><g class=\"xtick\"><text text-anchor=\"start\" x=\"0\" y=\"394\" transform=\"translate(328.4,0) rotate(90,0,388)\" style=\"font-family: 'Open Sans', verdana, arial, sans-serif; font-size: 12px; fill: rgb(42, 63, 95); fill-opacity: 1; white-space: pre; opacity: 1;\">world</text></g><g class=\"xtick\"><text text-anchor=\"start\" x=\"0\" y=\"394\" transform=\"translate(350,0) rotate(90,0,388)\" style=\"font-family: 'Open Sans', verdana, arial, sans-serif; font-size: 12px; fill: rgb(42, 63, 95); fill-opacity: 1; white-space: pre; opacity: 1;\">summer</text></g><g class=\"xtick\"><text text-anchor=\"start\" x=\"0\" y=\"394\" transform=\"translate(371.6,0) rotate(90,0,388)\" style=\"font-family: 'Open Sans', verdana, arial, sans-serif; font-size: 12px; fill: rgb(42, 63, 95); fill-opacity: 1; white-space: pre; opacity: 1;\">deadly</text></g><g class=\"xtick\"><text text-anchor=\"start\" x=\"0\" y=\"394\" transform=\"translate(393.2,0) rotate(90,0,388)\" style=\"font-family: 'Open Sans', verdana, arial, sans-serif; font-size: 12px; fill: rgb(42, 63, 95); fill-opacity: 1; white-space: pre; opacity: 1;\">city</text></g><g class=\"xtick\"><text text-anchor=\"start\" x=\"0\" y=\"394\" transform=\"translate(414.8,0) rotate(90,0,388)\" style=\"font-family: 'Open Sans', verdana, arial, sans-serif; font-size: 12px; fill: rgb(42, 63, 95); fill-opacity: 1; white-space: pre; opacity: 1;\">cool</text></g><g class=\"xtick\"><text text-anchor=\"start\" x=\"0\" y=\"394\" transform=\"translate(436.4,0) rotate(90,0,388)\" style=\"font-family: 'Open Sans', verdana, arial, sans-serif; font-size: 12px; fill: rgb(42, 63, 95); fill-opacity: 1; white-space: pre; opacity: 1;\">hit</text></g><g class=\"xtick\"><text text-anchor=\"start\" x=\"0\" y=\"394\" transform=\"translate(458,0) rotate(90,0,388)\" style=\"font-family: 'Open Sans', verdana, arial, sans-serif; font-size: 12px; fill: rgb(42, 63, 95); fill-opacity: 1; white-space: pre; opacity: 1;\">china</text></g><g class=\"xtick\"><text text-anchor=\"start\" x=\"0\" y=\"394\" transform=\"translate(479.6,0) rotate(90,0,388)\" style=\"font-family: 'Open Sans', verdana, arial, sans-serif; font-size: 12px; fill: rgb(42, 63, 95); fill-opacity: 1; white-space: pre; opacity: 1;\">crisis</text></g><g class=\"xtick\"><text text-anchor=\"start\" x=\"0\" y=\"394\" transform=\"translate(501.2,0) rotate(90,0,388)\" style=\"font-family: 'Open Sans', verdana, arial, sans-serif; font-size: 12px; fill: rgb(42, 63, 95); fill-opacity: 1; white-space: pre; opacity: 1;\">risk</text></g><g class=\"xtick\"><text text-anchor=\"start\" x=\"0\" y=\"394\" transform=\"translate(522.8,0) rotate(90,0,388)\" style=\"font-family: 'Open Sans', verdana, arial, sans-serif; font-size: 12px; fill: rgb(42, 63, 95); fill-opacity: 1; white-space: pre; opacity: 1;\">year</text></g><g class=\"xtick\"><text text-anchor=\"start\" x=\"0\" y=\"394\" transform=\"translate(544.4,0) rotate(90,0,388)\" style=\"font-family: 'Open Sans', verdana, arial, sans-serif; font-size: 12px; fill: rgb(42, 63, 95); fill-opacity: 1; white-space: pre; opacity: 1;\">help</text></g><g class=\"xtick\"><text text-anchor=\"start\" x=\"0\" y=\"394\" transform=\"translate(566,0) rotate(90,0,388)\" style=\"font-family: 'Open Sans', verdana, arial, sans-serif; font-size: 12px; fill: rgb(42, 63, 95); fill-opacity: 1; white-space: pre; opacity: 1;\">day</text></g><g class=\"xtick\"><text text-anchor=\"start\" x=\"0\" y=\"394\" transform=\"translate(587.6,0) rotate(90,0,388)\" style=\"font-family: 'Open Sans', verdana, arial, sans-serif; font-size: 12px; fill: rgb(42, 63, 95); fill-opacity: 1; white-space: pre; opacity: 1;\">britain</text></g><g class=\"xtick\"><text text-anchor=\"start\" x=\"0\" y=\"394\" transform=\"translate(609.2,0) rotate(90,0,388)\" style=\"font-family: 'Open Sans', verdana, arial, sans-serif; font-size: 12px; fill: rgb(42, 63, 95); fill-opacity: 1; white-space: pre; opacity: 1;\">set</text></g></g><g class=\"yaxislayer-above\"><g class=\"ytick\"><text text-anchor=\"end\" x=\"79\" y=\"4.199999999999999\" transform=\"translate(0,381)\" style=\"font-family: 'Open Sans', verdana, arial, sans-serif; font-size: 12px; fill: rgb(42, 63, 95); fill-opacity: 1; white-space: pre; opacity: 1;\">0</text></g><g class=\"ytick\"><text text-anchor=\"end\" x=\"79\" y=\"4.199999999999999\" style=\"font-family: 'Open Sans', verdana, arial, sans-serif; font-size: 12px; fill: rgb(42, 63, 95); fill-opacity: 1; white-space: pre; opacity: 1;\" transform=\"translate(0,335.75)\">10</text></g><g class=\"ytick\"><text text-anchor=\"end\" x=\"79\" y=\"4.199999999999999\" style=\"font-family: 'Open Sans', verdana, arial, sans-serif; font-size: 12px; fill: rgb(42, 63, 95); fill-opacity: 1; white-space: pre; opacity: 1;\" transform=\"translate(0,290.51)\">20</text></g><g class=\"ytick\"><text text-anchor=\"end\" x=\"79\" y=\"4.199999999999999\" style=\"font-family: 'Open Sans', verdana, arial, sans-serif; font-size: 12px; fill: rgb(42, 63, 95); fill-opacity: 1; white-space: pre; opacity: 1;\" transform=\"translate(0,245.26)\">30</text></g><g class=\"ytick\"><text text-anchor=\"end\" x=\"79\" y=\"4.199999999999999\" style=\"font-family: 'Open Sans', verdana, arial, sans-serif; font-size: 12px; fill: rgb(42, 63, 95); fill-opacity: 1; white-space: pre; opacity: 1;\" transform=\"translate(0,200.01999999999998)\">40</text></g><g class=\"ytick\"><text text-anchor=\"end\" x=\"79\" y=\"4.199999999999999\" style=\"font-family: 'Open Sans', verdana, arial, sans-serif; font-size: 12px; fill: rgb(42, 63, 95); fill-opacity: 1; white-space: pre; opacity: 1;\" transform=\"translate(0,154.77)\">50</text></g><g class=\"ytick\"><text text-anchor=\"end\" x=\"79\" y=\"4.199999999999999\" style=\"font-family: 'Open Sans', verdana, arial, sans-serif; font-size: 12px; fill: rgb(42, 63, 95); fill-opacity: 1; white-space: pre; opacity: 1;\" transform=\"translate(0,109.53)\">60</text></g></g><g class=\"overaxes-above\"/></g></g><g class=\"polarlayer\"/><g class=\"smithlayer\"/><g class=\"ternarylayer\"/><g class=\"geolayer\"/><g class=\"funnelarealayer\"/><g class=\"pielayer\"/><g class=\"iciclelayer\"/><g class=\"treemaplayer\"/><g class=\"sunburstlayer\"/><g class=\"glimages\"/><defs id=\"topdefs-91515e\"><g class=\"clips\"/></defs><g class=\"layer-above\"><g class=\"imagelayer\"/><g class=\"shapelayer\"/></g><g class=\"infolayer\"><g class=\"g-gtitle\"><text class=\"gtitle\" x=\"35\" y=\"50\" text-anchor=\"start\" dy=\"0em\" style=\"font-family: 'Open Sans', verdana, arial, sans-serif; font-size: 17px; fill: rgb(42, 63, 95); opacity: 1; font-weight: normal; white-space: pre;\">Top 25 unigrams for title</text></g><g class=\"g-xtitle\"><text class=\"xtitle\" x=\"350\" y=\"487.690625\" text-anchor=\"middle\" style=\"font-family: 'Open Sans', verdana, arial, sans-serif; font-size: 14px; fill: rgb(42, 63, 95); opacity: 1; font-weight: normal; white-space: pre;\">Unigram</text></g><g class=\"g-ytitle\"><text class=\"ytitle\" transform=\"rotate(-90,38.934375,240.5)\" x=\"38.934375\" y=\"240.5\" text-anchor=\"middle\" style=\"font-family: 'Open Sans', verdana, arial, sans-serif; font-size: 14px; fill: rgb(42, 63, 95); opacity: 1; font-weight: normal; white-space: pre;\">Frequency</text></g></g></svg>"
      ]
     },
     "metadata": {},
     "output_type": "display_data"
    }
   ],
   "source": [
    "common_words = get_top_n_words(news_data['title1'], 25, 1)\n",
    "df = pd.DataFrame(common_words, columns = ['word' , 'count'])\n",
    "df.groupby('word').sum()['count'].sort_values(ascending=False)\n",
    "fig = px.bar(df, x=\"word\", y=\"count\",\n",
    "            title=\"Top 25 unigrams for title\",\n",
    "             labels={\n",
    "                     \"count\": \"Frequency\",\n",
    "                     'word': \"Unigram\"\n",
    "                 })\n",
    "# Customize aspect\n",
    "fig.update_traces(marker_color='cadetblue', marker_line_color='cadetblue',\n",
    "                  marker_line_width=1.5, opacity=0.6)\n",
    "#fig.show()\n",
    "fig.show(renderer=\"svg\")"
   ]
  },
  {
   "cell_type": "code",
   "execution_count": 16,
   "id": "d64b435e",
   "metadata": {},
   "outputs": [
    {
     "data": {
      "image/svg+xml": [
       "<svg class=\"main-svg\" xmlns=\"http://www.w3.org/2000/svg\" xmlns:xlink=\"http://www.w3.org/1999/xlink\" width=\"700\" height=\"500\" style=\"\" viewBox=\"0 0 700 500\"><rect x=\"0\" y=\"0\" width=\"700\" height=\"500\" style=\"fill: rgb(255, 255, 255); fill-opacity: 1;\"/><defs id=\"defs-669e4d\"><g class=\"clips\"><clipPath id=\"clip669e4dxyplot\" class=\"plotclip\"><rect width=\"540\" height=\"227\"/></clipPath><clipPath class=\"axesclip\" id=\"clip669e4dx\"><rect x=\"80\" y=\"0\" width=\"540\" height=\"500\"/></clipPath><clipPath class=\"axesclip\" id=\"clip669e4dy\"><rect x=\"0\" y=\"100\" width=\"700\" height=\"227\"/></clipPath><clipPath class=\"axesclip\" id=\"clip669e4dxy\"><rect x=\"80\" y=\"100\" width=\"540\" height=\"227\"/></clipPath></g><g class=\"gradients\"/><g class=\"patterns\"/></defs><g class=\"bglayer\"><rect class=\"bg\" x=\"80\" y=\"100\" width=\"540\" height=\"227\" style=\"fill: rgb(229, 236, 246); fill-opacity: 1; stroke-width: 0;\"/></g><g class=\"layer-below\"><g class=\"imagelayer\"/><g class=\"shapelayer\"/></g><g class=\"cartesianlayer\"><g class=\"subplot xy\"><g class=\"layer-subplot\"><g class=\"shapelayer\"/><g class=\"imagelayer\"/></g><g class=\"minor-gridlayer\"><g class=\"x\"/><g class=\"y\"/></g><g class=\"gridlayer\"><g class=\"x\"/><g class=\"y\"><path class=\"ygrid crisp\" transform=\"translate(0,291.76)\" d=\"M80,0h540\" style=\"stroke: rgb(255, 255, 255); stroke-opacity: 1; stroke-width: 1px;\"/><path class=\"ygrid crisp\" transform=\"translate(0,256.53)\" d=\"M80,0h540\" style=\"stroke: rgb(255, 255, 255); stroke-opacity: 1; stroke-width: 1px;\"/><path class=\"ygrid crisp\" transform=\"translate(0,221.29000000000002)\" d=\"M80,0h540\" style=\"stroke: rgb(255, 255, 255); stroke-opacity: 1; stroke-width: 1px;\"/><path class=\"ygrid crisp\" transform=\"translate(0,186.05)\" d=\"M80,0h540\" style=\"stroke: rgb(255, 255, 255); stroke-opacity: 1; stroke-width: 1px;\"/><path class=\"ygrid crisp\" transform=\"translate(0,150.82)\" d=\"M80,0h540\" style=\"stroke: rgb(255, 255, 255); stroke-opacity: 1; stroke-width: 1px;\"/><path class=\"ygrid crisp\" transform=\"translate(0,115.58)\" d=\"M80,0h540\" style=\"stroke: rgb(255, 255, 255); stroke-opacity: 1; stroke-width: 1px;\"/></g></g><g class=\"zerolinelayer\"><path class=\"yzl zl crisp\" transform=\"translate(0,327)\" d=\"M80,0h540\" style=\"stroke: rgb(255, 255, 255); stroke-opacity: 1; stroke-width: 2px;\"/></g><path class=\"xlines-below\"/><path class=\"ylines-below\"/><g class=\"overlines-below\"/><g class=\"xaxislayer-below\"/><g class=\"yaxislayer-below\"/><g class=\"overaxes-below\"/><g class=\"plot\" transform=\"translate(80,100)\" clip-path=\"url(#clip669e4dxyplot)\"><g class=\"barlayer mlayer\"><g class=\"trace bars\" style=\"opacity: 0.6;\"><g class=\"points\"><g class=\"point\"><path d=\"M2.16,227V11.35H19.44V227Z\" style=\"vector-effect: non-scaling-stroke; opacity: 1; stroke-width: 1.5px; fill: rgb(95, 158, 160); fill-opacity: 1; stroke: rgb(95, 158, 160); stroke-opacity: 1;\"/></g><g class=\"point\"><path d=\"M23.76,227V103.67H41.04V227Z\" style=\"vector-effect: non-scaling-stroke; opacity: 1; stroke-width: 1.5px; fill: rgb(95, 158, 160); fill-opacity: 1; stroke: rgb(95, 158, 160); stroke-opacity: 1;\"/></g><g class=\"point\"><path d=\"M45.36,227V136.79H62.64V227Z\" style=\"vector-effect: non-scaling-stroke; opacity: 1; stroke-width: 1.5px; fill: rgb(95, 158, 160); fill-opacity: 1; stroke: rgb(95, 158, 160); stroke-opacity: 1;\"/></g><g class=\"point\"><path d=\"M66.96,227V142.08H84.24V227Z\" style=\"vector-effect: non-scaling-stroke; opacity: 1; stroke-width: 1.5px; fill: rgb(95, 158, 160); fill-opacity: 1; stroke: rgb(95, 158, 160); stroke-opacity: 1;\"/></g><g class=\"point\"><path d=\"M88.56,227V170.62H105.84V227Z\" style=\"vector-effect: non-scaling-stroke; opacity: 1; stroke-width: 1.5px; fill: rgb(95, 158, 160); fill-opacity: 1; stroke: rgb(95, 158, 160); stroke-opacity: 1;\"/></g><g class=\"point\"><path d=\"M110.16,227V173.09H127.44V227Z\" style=\"vector-effect: non-scaling-stroke; opacity: 1; stroke-width: 1.5px; fill: rgb(95, 158, 160); fill-opacity: 1; stroke: rgb(95, 158, 160); stroke-opacity: 1;\"/></g><g class=\"point\"><path d=\"M131.76,227V179.43H149.04V227Z\" style=\"vector-effect: non-scaling-stroke; opacity: 1; stroke-width: 1.5px; fill: rgb(95, 158, 160); fill-opacity: 1; stroke: rgb(95, 158, 160); stroke-opacity: 1;\"/></g><g class=\"point\"><path d=\"M153.36,227V182.6H170.64V227Z\" style=\"vector-effect: non-scaling-stroke; opacity: 1; stroke-width: 1.5px; fill: rgb(95, 158, 160); fill-opacity: 1; stroke: rgb(95, 158, 160); stroke-opacity: 1;\"/></g><g class=\"point\"><path d=\"M174.96,227V185.07H192.24V227Z\" style=\"vector-effect: non-scaling-stroke; opacity: 1; stroke-width: 1.5px; fill: rgb(95, 158, 160); fill-opacity: 1; stroke: rgb(95, 158, 160); stroke-opacity: 1;\"/></g><g class=\"point\"><path d=\"M196.56,227V185.77H213.84V227Z\" style=\"vector-effect: non-scaling-stroke; opacity: 1; stroke-width: 1.5px; fill: rgb(95, 158, 160); fill-opacity: 1; stroke: rgb(95, 158, 160); stroke-opacity: 1;\"/></g><g class=\"point\"><path d=\"M218.16,227V187.18H235.44V227Z\" style=\"vector-effect: non-scaling-stroke; opacity: 1; stroke-width: 1.5px; fill: rgb(95, 158, 160); fill-opacity: 1; stroke: rgb(95, 158, 160); stroke-opacity: 1;\"/></g><g class=\"point\"><path d=\"M239.76,227V191.06H257.04V227Z\" style=\"vector-effect: non-scaling-stroke; opacity: 1; stroke-width: 1.5px; fill: rgb(95, 158, 160); fill-opacity: 1; stroke: rgb(95, 158, 160); stroke-opacity: 1;\"/></g><g class=\"point\"><path d=\"M261.36,227V192.47H278.64V227Z\" style=\"vector-effect: non-scaling-stroke; opacity: 1; stroke-width: 1.5px; fill: rgb(95, 158, 160); fill-opacity: 1; stroke: rgb(95, 158, 160); stroke-opacity: 1;\"/></g><g class=\"point\"><path d=\"M282.96,227V193.88H300.24V227Z\" style=\"vector-effect: non-scaling-stroke; opacity: 1; stroke-width: 1.5px; fill: rgb(95, 158, 160); fill-opacity: 1; stroke: rgb(95, 158, 160); stroke-opacity: 1;\"/></g><g class=\"point\"><path d=\"M304.56,227V193.88H321.84V227Z\" style=\"vector-effect: non-scaling-stroke; opacity: 1; stroke-width: 1.5px; fill: rgb(95, 158, 160); fill-opacity: 1; stroke: rgb(95, 158, 160); stroke-opacity: 1;\"/></g><g class=\"point\"><path d=\"M326.16,227V194.23H343.44V227Z\" style=\"vector-effect: non-scaling-stroke; opacity: 1; stroke-width: 1.5px; fill: rgb(95, 158, 160); fill-opacity: 1; stroke: rgb(95, 158, 160); stroke-opacity: 1;\"/></g><g class=\"point\"><path d=\"M347.76,227V194.23H365.04V227Z\" style=\"vector-effect: non-scaling-stroke; opacity: 1; stroke-width: 1.5px; fill: rgb(95, 158, 160); fill-opacity: 1; stroke: rgb(95, 158, 160); stroke-opacity: 1;\"/></g><g class=\"point\"><path d=\"M369.36,227V197.4H386.64V227Z\" style=\"vector-effect: non-scaling-stroke; opacity: 1; stroke-width: 1.5px; fill: rgb(95, 158, 160); fill-opacity: 1; stroke: rgb(95, 158, 160); stroke-opacity: 1;\"/></g><g class=\"point\"><path d=\"M390.96,227V198.46H408.24V227Z\" style=\"vector-effect: non-scaling-stroke; opacity: 1; stroke-width: 1.5px; fill: rgb(95, 158, 160); fill-opacity: 1; stroke: rgb(95, 158, 160); stroke-opacity: 1;\"/></g><g class=\"point\"><path d=\"M412.56,227V198.81H429.84V227Z\" style=\"vector-effect: non-scaling-stroke; opacity: 1; stroke-width: 1.5px; fill: rgb(95, 158, 160); fill-opacity: 1; stroke: rgb(95, 158, 160); stroke-opacity: 1;\"/></g><g class=\"point\"><path d=\"M434.16,227V198.81H451.44V227Z\" style=\"vector-effect: non-scaling-stroke; opacity: 1; stroke-width: 1.5px; fill: rgb(95, 158, 160); fill-opacity: 1; stroke: rgb(95, 158, 160); stroke-opacity: 1;\"/></g><g class=\"point\"><path d=\"M455.76,227V198.81H473.04V227Z\" style=\"vector-effect: non-scaling-stroke; opacity: 1; stroke-width: 1.5px; fill: rgb(95, 158, 160); fill-opacity: 1; stroke: rgb(95, 158, 160); stroke-opacity: 1;\"/></g><g class=\"point\"><path d=\"M477.36,227V199.16H494.64V227Z\" style=\"vector-effect: non-scaling-stroke; opacity: 1; stroke-width: 1.5px; fill: rgb(95, 158, 160); fill-opacity: 1; stroke: rgb(95, 158, 160); stroke-opacity: 1;\"/></g><g class=\"point\"><path d=\"M498.96,227V199.16H516.24V227Z\" style=\"vector-effect: non-scaling-stroke; opacity: 1; stroke-width: 1.5px; fill: rgb(95, 158, 160); fill-opacity: 1; stroke: rgb(95, 158, 160); stroke-opacity: 1;\"/></g><g class=\"point\"><path d=\"M520.56,227V201.98H537.84V227Z\" style=\"vector-effect: non-scaling-stroke; opacity: 1; stroke-width: 1.5px; fill: rgb(95, 158, 160); fill-opacity: 1; stroke: rgb(95, 158, 160); stroke-opacity: 1;\"/></g></g></g></g></g><g class=\"overplot\"/><path class=\"xlines-above crisp\" d=\"M0,0\" style=\"fill: none;\"/><path class=\"ylines-above crisp\" d=\"M0,0\" style=\"fill: none;\"/><g class=\"overlines-above\"/><g class=\"xaxislayer-above\"><g class=\"xtick\"><text text-anchor=\"start\" x=\"0\" y=\"340\" transform=\"translate(90.8,0) rotate(90,0,334)\" style=\"font-family: 'Open Sans', verdana, arial, sans-serif; font-size: 12px; fill: rgb(42, 63, 95); fill-opacity: 1; white-space: pre; opacity: 1;\">climate change</text></g><g class=\"xtick\"><text text-anchor=\"start\" x=\"0\" y=\"340\" transform=\"translate(112.4,0) rotate(90,0,334)\" style=\"font-family: 'Open Sans', verdana, arial, sans-serif; font-size: 12px; fill: rgb(42, 63, 95); fill-opacity: 1; white-space: pre; opacity: 1;\">high temperature</text></g><g class=\"xtick\"><text text-anchor=\"start\" x=\"0\" y=\"340\" transform=\"translate(134,0) rotate(90,0,334)\" style=\"font-family: 'Open Sans', verdana, arial, sans-serif; font-size: 12px; fill: rgb(42, 63, 95); fill-opacity: 1; white-space: pre; opacity: 1;\">air conditioning</text></g><g class=\"xtick\"><text text-anchor=\"start\" x=\"0\" y=\"340\" transform=\"translate(155.6,0) rotate(90,0,334)\" style=\"font-family: 'Open Sans', verdana, arial, sans-serif; font-size: 12px; fill: rgb(42, 63, 95); fill-opacity: 1; white-space: pre; opacity: 1;\">degree celsius</text></g><g class=\"xtick\"><text text-anchor=\"start\" x=\"0\" y=\"340\" transform=\"translate(177.2,0) rotate(90,0,334)\" style=\"font-family: 'Open Sans', verdana, arial, sans-serif; font-size: 12px; fill: rgb(42, 63, 95); fill-opacity: 1; white-space: pre; opacity: 1;\">degree fahrenheit</text></g><g class=\"xtick\"><text text-anchor=\"start\" x=\"0\" y=\"340\" transform=\"translate(198.8,0) rotate(90,0,334)\" style=\"font-family: 'Open Sans', verdana, arial, sans-serif; font-size: 12px; fill: rgb(42, 63, 95); fill-opacity: 1; white-space: pre; opacity: 1;\">meet office</text></g><g class=\"xtick\"><text text-anchor=\"start\" x=\"0\" y=\"340\" transform=\"translate(220.4,0) rotate(90,0,334)\" style=\"font-family: 'Open Sans', verdana, arial, sans-serif; font-size: 12px; fill: rgb(42, 63, 95); fill-opacity: 1; white-space: pre; opacity: 1;\">hot weather</text></g><g class=\"xtick\"><text text-anchor=\"start\" x=\"0\" y=\"340\" transform=\"translate(242,0) rotate(90,0,334)\" style=\"font-family: 'Open Sans', verdana, arial, sans-serif; font-size: 12px; fill: rgb(42, 63, 95); fill-opacity: 1; white-space: pre; opacity: 1;\">extreme weather</text></g><g class=\"xtick\"><text text-anchor=\"start\" x=\"0\" y=\"340\" transform=\"translate(263.6,0) rotate(90,0,334)\" style=\"font-family: 'Open Sans', verdana, arial, sans-serif; font-size: 12px; fill: rgb(42, 63, 95); fill-opacity: 1; white-space: pre; opacity: 1;\">temperature degree</text></g><g class=\"xtick\"><text text-anchor=\"start\" x=\"0\" y=\"340\" transform=\"translate(285.2,0) rotate(90,0,334)\" style=\"font-family: 'Open Sans', verdana, arial, sans-serif; font-size: 12px; fill: rgb(42, 63, 95); fill-opacity: 1; white-space: pre; opacity: 1;\">temperature record</text></g><g class=\"xtick\"><text text-anchor=\"start\" x=\"0\" y=\"340\" transform=\"translate(306.8,0) rotate(90,0,334)\" style=\"font-family: 'Open Sans', verdana, arial, sans-serif; font-size: 12px; fill: rgb(42, 63, 95); fill-opacity: 1; white-space: pre; opacity: 1;\">hot day</text></g><g class=\"xtick\"><text text-anchor=\"start\" x=\"0\" y=\"340\" transform=\"translate(328.4,0) rotate(90,0,334)\" style=\"font-family: 'Open Sans', verdana, arial, sans-serif; font-size: 12px; fill: rgb(42, 63, 95); fill-opacity: 1; white-space: pre; opacity: 1;\">air conditioner</text></g><g class=\"xtick\"><text text-anchor=\"start\" x=\"0\" y=\"340\" transform=\"translate(350,0) rotate(90,0,334)\" style=\"font-family: 'Open Sans', verdana, arial, sans-serif; font-size: 12px; fill: rgb(42, 63, 95); fill-opacity: 1; white-space: pre; opacity: 1;\">weather service</text></g><g class=\"xtick\"><text text-anchor=\"start\" x=\"0\" y=\"340\" transform=\"translate(371.6,0) rotate(90,0,334)\" style=\"font-family: 'Open Sans', verdana, arial, sans-serif; font-size: 12px; fill: rgb(42, 63, 95); fill-opacity: 1; white-space: pre; opacity: 1;\">united states</text></g><g class=\"xtick\"><text text-anchor=\"start\" x=\"0\" y=\"340\" transform=\"translate(393.2,0) rotate(90,0,334)\" style=\"font-family: 'Open Sans', verdana, arial, sans-serif; font-size: 12px; fill: rgb(42, 63, 95); fill-opacity: 1; white-space: pre; opacity: 1;\">global warming</text></g><g class=\"xtick\"><text text-anchor=\"start\" x=\"0\" y=\"340\" transform=\"translate(414.8,0) rotate(90,0,334)\" style=\"font-family: 'Open Sans', verdana, arial, sans-serif; font-size: 12px; fill: rgb(42, 63, 95); fill-opacity: 1; white-space: pre; opacity: 1;\">record break</text></g><g class=\"xtick\"><text text-anchor=\"start\" x=\"0\" y=\"340\" transform=\"translate(436.4,0) rotate(90,0,334)\" style=\"font-family: 'Open Sans', verdana, arial, sans-serif; font-size: 12px; fill: rgb(42, 63, 95); fill-opacity: 1; white-space: pre; opacity: 1;\">greenhouse gas</text></g><g class=\"xtick\"><text text-anchor=\"start\" x=\"0\" y=\"340\" transform=\"translate(458,0) rotate(90,0,334)\" style=\"font-family: 'Open Sans', verdana, arial, sans-serif; font-size: 12px; fill: rgb(42, 63, 95); fill-opacity: 1; white-space: pre; opacity: 1;\">record high</text></g><g class=\"xtick\"><text text-anchor=\"start\" x=\"0\" y=\"340\" transform=\"translate(479.6,0) rotate(90,0,334)\" style=\"font-family: 'Open Sans', verdana, arial, sans-serif; font-size: 12px; fill: rgb(42, 63, 95); fill-opacity: 1; white-space: pre; opacity: 1;\">temperature reach</text></g><g class=\"xtick\"><text text-anchor=\"start\" x=\"0\" y=\"340\" transform=\"translate(501.2,0) rotate(90,0,334)\" style=\"font-family: 'Open Sans', verdana, arial, sans-serif; font-size: 12px; fill: rgb(42, 63, 95); fill-opacity: 1; white-space: pre; opacity: 1;\">relate illness</text></g><g class=\"xtick\"><text text-anchor=\"start\" x=\"0\" y=\"340\" transform=\"translate(522.8,0) rotate(90,0,334)\" style=\"font-family: 'Open Sans', verdana, arial, sans-serif; font-size: 12px; fill: rgb(42, 63, 95); fill-opacity: 1; white-space: pre; opacity: 1;\">extreme temperature</text></g><g class=\"xtick\"><text text-anchor=\"start\" x=\"0\" y=\"340\" transform=\"translate(544.4,0) rotate(90,0,334)\" style=\"font-family: 'Open Sans', verdana, arial, sans-serif; font-size: 12px; fill: rgb(42, 63, 95); fill-opacity: 1; white-space: pre; opacity: 1;\">temperature rise</text></g><g class=\"xtick\"><text text-anchor=\"start\" x=\"0\" y=\"340\" transform=\"translate(566,0) rotate(90,0,334)\" style=\"font-family: 'Open Sans', verdana, arial, sans-serif; font-size: 12px; fill: rgb(42, 63, 95); fill-opacity: 1; white-space: pre; opacity: 1;\">weather event</text></g><g class=\"xtick\"><text text-anchor=\"start\" x=\"0\" y=\"340\" transform=\"translate(587.6,0) rotate(90,0,334)\" style=\"font-family: 'Open Sans', verdana, arial, sans-serif; font-size: 12px; fill: rgb(42, 63, 95); fill-opacity: 1; white-space: pre; opacity: 1;\">jet stream</text></g><g class=\"xtick\"><text text-anchor=\"start\" x=\"0\" y=\"340\" transform=\"translate(609.2,0) rotate(90,0,334)\" style=\"font-family: 'Open Sans', verdana, arial, sans-serif; font-size: 12px; fill: rgb(42, 63, 95); fill-opacity: 1; white-space: pre; opacity: 1;\">mental health</text></g></g><g class=\"yaxislayer-above\"><g class=\"ytick\"><text text-anchor=\"end\" x=\"79\" y=\"4.199999999999999\" transform=\"translate(0,327)\" style=\"font-family: 'Open Sans', verdana, arial, sans-serif; font-size: 12px; fill: rgb(42, 63, 95); fill-opacity: 1; white-space: pre; opacity: 1;\">0</text></g><g class=\"ytick\"><text text-anchor=\"end\" x=\"79\" y=\"4.199999999999999\" style=\"font-family: 'Open Sans', verdana, arial, sans-serif; font-size: 12px; fill: rgb(42, 63, 95); fill-opacity: 1; white-space: pre; opacity: 1;\" transform=\"translate(0,291.76)\">100</text></g><g class=\"ytick\"><text text-anchor=\"end\" x=\"79\" y=\"4.199999999999999\" style=\"font-family: 'Open Sans', verdana, arial, sans-serif; font-size: 12px; fill: rgb(42, 63, 95); fill-opacity: 1; white-space: pre; opacity: 1;\" transform=\"translate(0,256.53)\">200</text></g><g class=\"ytick\"><text text-anchor=\"end\" x=\"79\" y=\"4.199999999999999\" style=\"font-family: 'Open Sans', verdana, arial, sans-serif; font-size: 12px; fill: rgb(42, 63, 95); fill-opacity: 1; white-space: pre; opacity: 1;\" transform=\"translate(0,221.29000000000002)\">300</text></g><g class=\"ytick\"><text text-anchor=\"end\" x=\"79\" y=\"4.199999999999999\" style=\"font-family: 'Open Sans', verdana, arial, sans-serif; font-size: 12px; fill: rgb(42, 63, 95); fill-opacity: 1; white-space: pre; opacity: 1;\" transform=\"translate(0,186.05)\">400</text></g><g class=\"ytick\"><text text-anchor=\"end\" x=\"79\" y=\"4.199999999999999\" style=\"font-family: 'Open Sans', verdana, arial, sans-serif; font-size: 12px; fill: rgb(42, 63, 95); fill-opacity: 1; white-space: pre; opacity: 1;\" transform=\"translate(0,150.82)\">500</text></g><g class=\"ytick\"><text text-anchor=\"end\" x=\"79\" y=\"4.199999999999999\" style=\"font-family: 'Open Sans', verdana, arial, sans-serif; font-size: 12px; fill: rgb(42, 63, 95); fill-opacity: 1; white-space: pre; opacity: 1;\" transform=\"translate(0,115.58)\">600</text></g></g><g class=\"overaxes-above\"/></g></g><g class=\"polarlayer\"/><g class=\"smithlayer\"/><g class=\"ternarylayer\"/><g class=\"geolayer\"/><g class=\"funnelarealayer\"/><g class=\"pielayer\"/><g class=\"iciclelayer\"/><g class=\"treemaplayer\"/><g class=\"sunburstlayer\"/><g class=\"glimages\"/><defs id=\"topdefs-669e4d\"><g class=\"clips\"/></defs><g class=\"layer-above\"><g class=\"imagelayer\"/><g class=\"shapelayer\"/></g><g class=\"infolayer\"><g class=\"g-gtitle\"><text class=\"gtitle\" x=\"35\" y=\"50\" text-anchor=\"start\" dy=\"0em\" style=\"font-family: 'Open Sans', verdana, arial, sans-serif; font-size: 17px; fill: rgb(42, 63, 95); opacity: 1; font-weight: normal; white-space: pre;\">Top 25 bigrams for text</text></g><g class=\"g-xtitle\"><text class=\"xtitle\" x=\"350\" y=\"487.971875\" text-anchor=\"middle\" style=\"font-family: 'Open Sans', verdana, arial, sans-serif; font-size: 14px; fill: rgb(42, 63, 95); opacity: 1; font-weight: normal; white-space: pre;\">Bigram</text></g><g class=\"g-ytitle\"><text class=\"ytitle\" transform=\"rotate(-90,31.309375000000003,213.5)\" x=\"31.309375000000003\" y=\"213.5\" text-anchor=\"middle\" style=\"font-family: 'Open Sans', verdana, arial, sans-serif; font-size: 14px; fill: rgb(42, 63, 95); opacity: 1; font-weight: normal; white-space: pre;\">Frequency</text></g></g></svg>"
      ]
     },
     "metadata": {},
     "output_type": "display_data"
    }
   ],
   "source": [
    "common_words = get_top_n_words(news_data['text1'], 25, 2)\n",
    "df = pd.DataFrame(common_words, columns = ['word' , 'count'])\n",
    "df.groupby('word').sum()['count'].sort_values(ascending=False)\n",
    "fig = px.bar(df, x=\"word\", y=\"count\",\n",
    "            title=\"Top 25 bigrams for text\",\n",
    "             labels={\n",
    "                     \"count\": \"Frequency\",\n",
    "                     'word': \"Bigram\"\n",
    "                 })\n",
    "# Customize aspect\n",
    "fig.update_traces(marker_color='cadetblue', marker_line_color='cadetblue',\n",
    "                  marker_line_width=1.5, opacity=0.6)\n",
    "#fig.show()\n",
    "fig.show(renderer=\"svg\")"
   ]
  },
  {
   "cell_type": "code",
   "execution_count": 17,
   "id": "cc6e8efe",
   "metadata": {},
   "outputs": [
    {
     "data": {
      "image/svg+xml": [
       "<svg class=\"main-svg\" xmlns=\"http://www.w3.org/2000/svg\" xmlns:xlink=\"http://www.w3.org/1999/xlink\" width=\"700\" height=\"500\" style=\"\" viewBox=\"0 0 700 500\"><rect x=\"0\" y=\"0\" width=\"700\" height=\"500\" style=\"fill: rgb(255, 255, 255); fill-opacity: 1;\"/><defs id=\"defs-9d80af\"><g class=\"clips\"><clipPath id=\"clip9d80afxyplot\" class=\"plotclip\"><rect width=\"540\" height=\"239\"/></clipPath><clipPath class=\"axesclip\" id=\"clip9d80afx\"><rect x=\"80\" y=\"0\" width=\"540\" height=\"500\"/></clipPath><clipPath class=\"axesclip\" id=\"clip9d80afy\"><rect x=\"0\" y=\"100\" width=\"700\" height=\"239\"/></clipPath><clipPath class=\"axesclip\" id=\"clip9d80afxy\"><rect x=\"80\" y=\"100\" width=\"540\" height=\"239\"/></clipPath></g><g class=\"gradients\"/><g class=\"patterns\"/></defs><g class=\"bglayer\"><rect class=\"bg\" x=\"80\" y=\"100\" width=\"540\" height=\"239\" style=\"fill: rgb(229, 236, 246); fill-opacity: 1; stroke-width: 0;\"/></g><g class=\"layer-below\"><g class=\"imagelayer\"/><g class=\"shapelayer\"/></g><g class=\"cartesianlayer\"><g class=\"subplot xy\"><g class=\"layer-subplot\"><g class=\"shapelayer\"/><g class=\"imagelayer\"/></g><g class=\"minor-gridlayer\"><g class=\"x\"/><g class=\"y\"/></g><g class=\"gridlayer\"><g class=\"x\"/><g class=\"y\"><path class=\"ygrid crisp\" transform=\"translate(0,299.85)\" d=\"M80,0h540\" style=\"stroke: rgb(255, 255, 255); stroke-opacity: 1; stroke-width: 1px;\"/><path class=\"ygrid crisp\" transform=\"translate(0,260.71000000000004)\" d=\"M80,0h540\" style=\"stroke: rgb(255, 255, 255); stroke-opacity: 1; stroke-width: 1px;\"/><path class=\"ygrid crisp\" transform=\"translate(0,221.56)\" d=\"M80,0h540\" style=\"stroke: rgb(255, 255, 255); stroke-opacity: 1; stroke-width: 1px;\"/><path class=\"ygrid crisp\" transform=\"translate(0,182.41)\" d=\"M80,0h540\" style=\"stroke: rgb(255, 255, 255); stroke-opacity: 1; stroke-width: 1px;\"/><path class=\"ygrid crisp\" transform=\"translate(0,143.27)\" d=\"M80,0h540\" style=\"stroke: rgb(255, 255, 255); stroke-opacity: 1; stroke-width: 1px;\"/><path class=\"ygrid crisp\" transform=\"translate(0,104.12)\" d=\"M80,0h540\" style=\"stroke: rgb(255, 255, 255); stroke-opacity: 1; stroke-width: 1px;\"/></g></g><g class=\"zerolinelayer\"><path class=\"yzl zl crisp\" transform=\"translate(0,339)\" d=\"M80,0h540\" style=\"stroke: rgb(255, 255, 255); stroke-opacity: 1; stroke-width: 2px;\"/></g><path class=\"xlines-below\"/><path class=\"ylines-below\"/><g class=\"overlines-below\"/><g class=\"xaxislayer-below\"/><g class=\"yaxislayer-below\"/><g class=\"overaxes-below\"/><g class=\"plot\" transform=\"translate(80,100)\" clip-path=\"url(#clip9d80afxyplot)\"><g class=\"barlayer mlayer\"><g class=\"trace bars\" style=\"opacity: 0.6;\"><g class=\"points\"><g class=\"point\"><path d=\"M2.16,239V11.95H19.44V239Z\" style=\"vector-effect: non-scaling-stroke; opacity: 1; stroke-width: 1.5px; fill: rgb(95, 158, 160); fill-opacity: 1; stroke: rgb(95, 158, 160); stroke-opacity: 1;\"/></g><g class=\"point\"><path d=\"M23.76,239V176.37H41.04V239Z\" style=\"vector-effect: non-scaling-stroke; opacity: 1; stroke-width: 1.5px; fill: rgb(95, 158, 160); fill-opacity: 1; stroke: rgb(95, 158, 160); stroke-opacity: 1;\"/></g><g class=\"point\"><path d=\"M45.36,239V176.37H62.64V239Z\" style=\"vector-effect: non-scaling-stroke; opacity: 1; stroke-width: 1.5px; fill: rgb(95, 158, 160); fill-opacity: 1; stroke: rgb(95, 158, 160); stroke-opacity: 1;\"/></g><g class=\"point\"><path d=\"M66.96,239V176.37H84.24V239Z\" style=\"vector-effect: non-scaling-stroke; opacity: 1; stroke-width: 1.5px; fill: rgb(95, 158, 160); fill-opacity: 1; stroke: rgb(95, 158, 160); stroke-opacity: 1;\"/></g><g class=\"point\"><path d=\"M88.56,239V184.19H105.84V239Z\" style=\"vector-effect: non-scaling-stroke; opacity: 1; stroke-width: 1.5px; fill: rgb(95, 158, 160); fill-opacity: 1; stroke: rgb(95, 158, 160); stroke-opacity: 1;\"/></g><g class=\"point\"><path d=\"M110.16,239V192.02H127.44V239Z\" style=\"vector-effect: non-scaling-stroke; opacity: 1; stroke-width: 1.5px; fill: rgb(95, 158, 160); fill-opacity: 1; stroke: rgb(95, 158, 160); stroke-opacity: 1;\"/></g><g class=\"point\"><path d=\"M131.76,239V199.85H149.04V239Z\" style=\"vector-effect: non-scaling-stroke; opacity: 1; stroke-width: 1.5px; fill: rgb(95, 158, 160); fill-opacity: 1; stroke: rgb(95, 158, 160); stroke-opacity: 1;\"/></g><g class=\"point\"><path d=\"M153.36,239V199.85H170.64V239Z\" style=\"vector-effect: non-scaling-stroke; opacity: 1; stroke-width: 1.5px; fill: rgb(95, 158, 160); fill-opacity: 1; stroke: rgb(95, 158, 160); stroke-opacity: 1;\"/></g><g class=\"point\"><path d=\"M174.96,239V207.68H192.24V239Z\" style=\"vector-effect: non-scaling-stroke; opacity: 1; stroke-width: 1.5px; fill: rgb(95, 158, 160); fill-opacity: 1; stroke: rgb(95, 158, 160); stroke-opacity: 1;\"/></g><g class=\"point\"><path d=\"M196.56,239V207.68H213.84V239Z\" style=\"vector-effect: non-scaling-stroke; opacity: 1; stroke-width: 1.5px; fill: rgb(95, 158, 160); fill-opacity: 1; stroke: rgb(95, 158, 160); stroke-opacity: 1;\"/></g><g class=\"point\"><path d=\"M218.16,239V207.68H235.44V239Z\" style=\"vector-effect: non-scaling-stroke; opacity: 1; stroke-width: 1.5px; fill: rgb(95, 158, 160); fill-opacity: 1; stroke: rgb(95, 158, 160); stroke-opacity: 1;\"/></g><g class=\"point\"><path d=\"M239.76,239V207.68H257.04V239Z\" style=\"vector-effect: non-scaling-stroke; opacity: 1; stroke-width: 1.5px; fill: rgb(95, 158, 160); fill-opacity: 1; stroke: rgb(95, 158, 160); stroke-opacity: 1;\"/></g><g class=\"point\"><path d=\"M261.36,239V207.68H278.64V239Z\" style=\"vector-effect: non-scaling-stroke; opacity: 1; stroke-width: 1.5px; fill: rgb(95, 158, 160); fill-opacity: 1; stroke: rgb(95, 158, 160); stroke-opacity: 1;\"/></g><g class=\"point\"><path d=\"M282.96,239V207.68H300.24V239Z\" style=\"vector-effect: non-scaling-stroke; opacity: 1; stroke-width: 1.5px; fill: rgb(95, 158, 160); fill-opacity: 1; stroke: rgb(95, 158, 160); stroke-opacity: 1;\"/></g><g class=\"point\"><path d=\"M304.56,239V207.68H321.84V239Z\" style=\"vector-effect: non-scaling-stroke; opacity: 1; stroke-width: 1.5px; fill: rgb(95, 158, 160); fill-opacity: 1; stroke: rgb(95, 158, 160); stroke-opacity: 1;\"/></g><g class=\"point\"><path d=\"M326.16,239V207.68H343.44V239Z\" style=\"vector-effect: non-scaling-stroke; opacity: 1; stroke-width: 1.5px; fill: rgb(95, 158, 160); fill-opacity: 1; stroke: rgb(95, 158, 160); stroke-opacity: 1;\"/></g><g class=\"point\"><path d=\"M347.76,239V215.51H365.04V239Z\" style=\"vector-effect: non-scaling-stroke; opacity: 1; stroke-width: 1.5px; fill: rgb(95, 158, 160); fill-opacity: 1; stroke: rgb(95, 158, 160); stroke-opacity: 1;\"/></g><g class=\"point\"><path d=\"M369.36,239V215.51H386.64V239Z\" style=\"vector-effect: non-scaling-stroke; opacity: 1; stroke-width: 1.5px; fill: rgb(95, 158, 160); fill-opacity: 1; stroke: rgb(95, 158, 160); stroke-opacity: 1;\"/></g><g class=\"point\"><path d=\"M390.96,239V215.51H408.24V239Z\" style=\"vector-effect: non-scaling-stroke; opacity: 1; stroke-width: 1.5px; fill: rgb(95, 158, 160); fill-opacity: 1; stroke: rgb(95, 158, 160); stroke-opacity: 1;\"/></g><g class=\"point\"><path d=\"M412.56,239V215.51H429.84V239Z\" style=\"vector-effect: non-scaling-stroke; opacity: 1; stroke-width: 1.5px; fill: rgb(95, 158, 160); fill-opacity: 1; stroke: rgb(95, 158, 160); stroke-opacity: 1;\"/></g><g class=\"point\"><path d=\"M434.16,239V215.51H451.44V239Z\" style=\"vector-effect: non-scaling-stroke; opacity: 1; stroke-width: 1.5px; fill: rgb(95, 158, 160); fill-opacity: 1; stroke: rgb(95, 158, 160); stroke-opacity: 1;\"/></g><g class=\"point\"><path d=\"M455.76,239V215.51H473.04V239Z\" style=\"vector-effect: non-scaling-stroke; opacity: 1; stroke-width: 1.5px; fill: rgb(95, 158, 160); fill-opacity: 1; stroke: rgb(95, 158, 160); stroke-opacity: 1;\"/></g><g class=\"point\"><path d=\"M477.36,239V215.51H494.64V239Z\" style=\"vector-effect: non-scaling-stroke; opacity: 1; stroke-width: 1.5px; fill: rgb(95, 158, 160); fill-opacity: 1; stroke: rgb(95, 158, 160); stroke-opacity: 1;\"/></g><g class=\"point\"><path d=\"M498.96,239V215.51H516.24V239Z\" style=\"vector-effect: non-scaling-stroke; opacity: 1; stroke-width: 1.5px; fill: rgb(95, 158, 160); fill-opacity: 1; stroke: rgb(95, 158, 160); stroke-opacity: 1;\"/></g><g class=\"point\"><path d=\"M520.56,239V215.51H537.84V239Z\" style=\"vector-effect: non-scaling-stroke; opacity: 1; stroke-width: 1.5px; fill: rgb(95, 158, 160); fill-opacity: 1; stroke: rgb(95, 158, 160); stroke-opacity: 1;\"/></g></g></g></g></g><g class=\"overplot\"/><path class=\"xlines-above crisp\" d=\"M0,0\" style=\"fill: none;\"/><path class=\"ylines-above crisp\" d=\"M0,0\" style=\"fill: none;\"/><g class=\"overlines-above\"/><g class=\"xaxislayer-above\"><g class=\"xtick\"><text text-anchor=\"start\" x=\"0\" y=\"352\" transform=\"translate(90.8,0) rotate(90,0,346)\" style=\"font-family: 'Open Sans', verdana, arial, sans-serif; font-size: 12px; fill: rgb(42, 63, 95); fill-opacity: 1; white-space: pre; opacity: 1;\">climate change</text></g><g class=\"xtick\"><text text-anchor=\"start\" x=\"0\" y=\"352\" transform=\"translate(112.4,0) rotate(90,0,346)\" style=\"font-family: 'Open Sans', verdana, arial, sans-serif; font-size: 12px; fill: rgb(42, 63, 95); fill-opacity: 1; white-space: pre; opacity: 1;\">mental health</text></g><g class=\"xtick\"><text text-anchor=\"start\" x=\"0\" y=\"352\" transform=\"translate(134,0) rotate(90,0,346)\" style=\"font-family: 'Open Sans', verdana, arial, sans-serif; font-size: 12px; fill: rgb(42, 63, 95); fill-opacity: 1; white-space: pre; opacity: 1;\">record break</text></g><g class=\"xtick\"><text text-anchor=\"start\" x=\"0\" y=\"352\" transform=\"translate(155.6,0) rotate(90,0,346)\" style=\"font-family: 'Open Sans', verdana, arial, sans-serif; font-size: 12px; fill: rgb(42, 63, 95); fill-opacity: 1; white-space: pre; opacity: 1;\">glass animal</text></g><g class=\"xtick\"><text text-anchor=\"start\" x=\"0\" y=\"352\" transform=\"translate(177.2,0) rotate(90,0,346)\" style=\"font-family: 'Open Sans', verdana, arial, sans-serif; font-size: 12px; fill: rgb(42, 63, 95); fill-opacity: 1; white-space: pre; opacity: 1;\">air conditioning</text></g><g class=\"xtick\"><text text-anchor=\"start\" x=\"0\" y=\"352\" transform=\"translate(198.8,0) rotate(90,0,346)\" style=\"font-family: 'Open Sans', verdana, arial, sans-serif; font-size: 12px; fill: rgb(42, 63, 95); fill-opacity: 1; white-space: pre; opacity: 1;\">high temperature</text></g><g class=\"xtick\"><text text-anchor=\"start\" x=\"0\" y=\"352\" transform=\"translate(220.4,0) rotate(90,0,346)\" style=\"font-family: 'Open Sans', verdana, arial, sans-serif; font-size: 12px; fill: rgb(42, 63, 95); fill-opacity: 1; white-space: pre; opacity: 1;\">hot day</text></g><g class=\"xtick\"><text text-anchor=\"start\" x=\"0\" y=\"352\" transform=\"translate(242,0) rotate(90,0,346)\" style=\"font-family: 'Open Sans', verdana, arial, sans-serif; font-size: 12px; fill: rgb(42, 63, 95); fill-opacity: 1; white-space: pre; opacity: 1;\">south asia</text></g><g class=\"xtick\"><text text-anchor=\"start\" x=\"0\" y=\"352\" transform=\"translate(263.6,0) rotate(90,0,346)\" style=\"font-family: 'Open Sans', verdana, arial, sans-serif; font-size: 12px; fill: rgb(42, 63, 95); fill-opacity: 1; white-space: pre; opacity: 1;\">weather forecast</text></g><g class=\"xtick\"><text text-anchor=\"start\" x=\"0\" y=\"352\" transform=\"translate(285.2,0) rotate(90,0,346)\" style=\"font-family: 'Open Sans', verdana, arial, sans-serif; font-size: 12px; fill: rgb(42, 63, 95); fill-opacity: 1; white-space: pre; opacity: 1;\">new normal</text></g><g class=\"xtick\"><text text-anchor=\"start\" x=\"0\" y=\"352\" transform=\"translate(306.8,0) rotate(90,0,346)\" style=\"font-family: 'Open Sans', verdana, arial, sans-serif; font-size: 12px; fill: rgb(42, 63, 95); fill-opacity: 1; white-space: pre; opacity: 1;\">punish economy</text></g><g class=\"xtick\"><text text-anchor=\"start\" x=\"0\" y=\"352\" transform=\"translate(328.4,0) rotate(90,0,346)\" style=\"font-family: 'Open Sans', verdana, arial, sans-serif; font-size: 12px; fill: rgb(42, 63, 95); fill-opacity: 1; white-space: pre; opacity: 1;\">zoe world</text></g><g class=\"xtick\"><text text-anchor=\"start\" x=\"0\" y=\"352\" transform=\"translate(350,0) rotate(90,0,346)\" style=\"font-family: 'Open Sans', verdana, arial, sans-serif; font-size: 12px; fill: rgb(42, 63, 95); fill-opacity: 1; white-space: pre; opacity: 1;\">india pakistan</text></g><g class=\"xtick\"><text text-anchor=\"start\" x=\"0\" y=\"352\" transform=\"translate(371.6,0) rotate(90,0,346)\" style=\"font-family: 'Open Sans', verdana, arial, sans-serif; font-size: 12px; fill: rgb(42, 63, 95); fill-opacity: 1; white-space: pre; opacity: 1;\">climate crisis</text></g><g class=\"xtick\"><text text-anchor=\"start\" x=\"0\" y=\"352\" transform=\"translate(393.2,0) rotate(90,0,346)\" style=\"font-family: 'Open Sans', verdana, arial, sans-serif; font-size: 12px; fill: rgb(42, 63, 95); fill-opacity: 1; white-space: pre; opacity: 1;\">time likely</text></g><g class=\"xtick\"><text text-anchor=\"start\" x=\"0\" y=\"352\" transform=\"translate(414.8,0) rotate(90,0,346)\" style=\"font-family: 'Open Sans', verdana, arial, sans-serif; font-size: 12px; fill: rgb(42, 63, 95); fill-opacity: 1; white-space: pre; opacity: 1;\">hot weather</text></g><g class=\"xtick\"><text text-anchor=\"start\" x=\"0\" y=\"352\" transform=\"translate(436.4,0) rotate(90,0,346)\" style=\"font-family: 'Open Sans', verdana, arial, sans-serif; font-size: 12px; fill: rgb(42, 63, 95); fill-opacity: 1; white-space: pre; opacity: 1;\">hot spot</text></g><g class=\"xtick\"><text text-anchor=\"start\" x=\"0\" y=\"352\" transform=\"translate(458,0) rotate(90,0,346)\" style=\"font-family: 'Open Sans', verdana, arial, sans-serif; font-size: 12px; fill: rgb(42, 63, 95); fill-opacity: 1; white-space: pre; opacity: 1;\">record set</text></g><g class=\"xtick\"><text text-anchor=\"start\" x=\"0\" y=\"352\" transform=\"translate(479.6,0) rotate(90,0,346)\" style=\"font-family: 'Open Sans', verdana, arial, sans-serif; font-size: 12px; fill: rgb(42, 63, 95); fill-opacity: 1; white-space: pre; opacity: 1;\">economy reel</text></g><g class=\"xtick\"><text text-anchor=\"start\" x=\"0\" y=\"352\" transform=\"translate(501.2,0) rotate(90,0,346)\" style=\"font-family: 'Open Sans', verdana, arial, sans-serif; font-size: 12px; fill: rgb(42, 63, 95); fill-opacity: 1; white-space: pre; opacity: 1;\">reel inflation</text></g><g class=\"xtick\"><text text-anchor=\"start\" x=\"0\" y=\"352\" transform=\"translate(522.8,0) rotate(90,0,346)\" style=\"font-family: 'Open Sans', verdana, arial, sans-serif; font-size: 12px; fill: rgb(42, 63, 95); fill-opacity: 1; white-space: pre; opacity: 1;\">temperature record</text></g><g class=\"xtick\"><text text-anchor=\"start\" x=\"0\" y=\"352\" transform=\"translate(544.4,0) rotate(90,0,346)\" style=\"font-family: 'Open Sans', verdana, arial, sans-serif; font-size: 12px; fill: rgb(42, 63, 95); fill-opacity: 1; white-space: pre; opacity: 1;\">stay cool</text></g><g class=\"xtick\"><text text-anchor=\"start\" x=\"0\" y=\"352\" transform=\"translate(566,0) rotate(90,0,346)\" style=\"font-family: 'Open Sans', verdana, arial, sans-serif; font-size: 12px; fill: rgb(42, 63, 95); fill-opacity: 1; white-space: pre; opacity: 1;\">hit europe</text></g><g class=\"xtick\"><text text-anchor=\"start\" x=\"0\" y=\"352\" transform=\"translate(587.6,0) rotate(90,0,346)\" style=\"font-family: 'Open Sans', verdana, arial, sans-serif; font-size: 12px; fill: rgb(42, 63, 95); fill-opacity: 1; white-space: pre; opacity: 1;\">hot temperature</text></g><g class=\"xtick\"><text text-anchor=\"start\" x=\"0\" y=\"352\" transform=\"translate(609.2,0) rotate(90,0,346)\" style=\"font-family: 'Open Sans', verdana, arial, sans-serif; font-size: 12px; fill: rgb(42, 63, 95); fill-opacity: 1; white-space: pre; opacity: 1;\">pacific northwest</text></g></g><g class=\"yaxislayer-above\"><g class=\"ytick\"><text text-anchor=\"end\" x=\"79\" y=\"4.199999999999999\" transform=\"translate(0,339)\" style=\"font-family: 'Open Sans', verdana, arial, sans-serif; font-size: 12px; fill: rgb(42, 63, 95); fill-opacity: 1; white-space: pre; opacity: 1;\">0</text></g><g class=\"ytick\"><text text-anchor=\"end\" x=\"79\" y=\"4.199999999999999\" style=\"font-family: 'Open Sans', verdana, arial, sans-serif; font-size: 12px; fill: rgb(42, 63, 95); fill-opacity: 1; white-space: pre; opacity: 1;\" transform=\"translate(0,299.85)\">5</text></g><g class=\"ytick\"><text text-anchor=\"end\" x=\"79\" y=\"4.199999999999999\" style=\"font-family: 'Open Sans', verdana, arial, sans-serif; font-size: 12px; fill: rgb(42, 63, 95); fill-opacity: 1; white-space: pre; opacity: 1;\" transform=\"translate(0,260.71000000000004)\">10</text></g><g class=\"ytick\"><text text-anchor=\"end\" x=\"79\" y=\"4.199999999999999\" style=\"font-family: 'Open Sans', verdana, arial, sans-serif; font-size: 12px; fill: rgb(42, 63, 95); fill-opacity: 1; white-space: pre; opacity: 1;\" transform=\"translate(0,221.56)\">15</text></g><g class=\"ytick\"><text text-anchor=\"end\" x=\"79\" y=\"4.199999999999999\" style=\"font-family: 'Open Sans', verdana, arial, sans-serif; font-size: 12px; fill: rgb(42, 63, 95); fill-opacity: 1; white-space: pre; opacity: 1;\" transform=\"translate(0,182.41)\">20</text></g><g class=\"ytick\"><text text-anchor=\"end\" x=\"79\" y=\"4.199999999999999\" style=\"font-family: 'Open Sans', verdana, arial, sans-serif; font-size: 12px; fill: rgb(42, 63, 95); fill-opacity: 1; white-space: pre; opacity: 1;\" transform=\"translate(0,143.27)\">25</text></g><g class=\"ytick\"><text text-anchor=\"end\" x=\"79\" y=\"4.199999999999999\" style=\"font-family: 'Open Sans', verdana, arial, sans-serif; font-size: 12px; fill: rgb(42, 63, 95); fill-opacity: 1; white-space: pre; opacity: 1;\" transform=\"translate(0,104.12)\">30</text></g></g><g class=\"overaxes-above\"/></g></g><g class=\"polarlayer\"/><g class=\"smithlayer\"/><g class=\"ternarylayer\"/><g class=\"geolayer\"/><g class=\"funnelarealayer\"/><g class=\"pielayer\"/><g class=\"iciclelayer\"/><g class=\"treemaplayer\"/><g class=\"sunburstlayer\"/><g class=\"glimages\"/><defs id=\"topdefs-9d80af\"><g class=\"clips\"/></defs><g class=\"layer-above\"><g class=\"imagelayer\"/><g class=\"shapelayer\"/></g><g class=\"infolayer\"><g class=\"g-gtitle\"><text class=\"gtitle\" x=\"35\" y=\"50\" text-anchor=\"start\" dy=\"0em\" style=\"font-family: 'Open Sans', verdana, arial, sans-serif; font-size: 17px; fill: rgb(42, 63, 95); opacity: 1; font-weight: normal; white-space: pre;\">Top 25 bigrams for title</text></g><g class=\"g-xtitle\"><text class=\"xtitle\" x=\"350\" y=\"488.315625\" text-anchor=\"middle\" style=\"font-family: 'Open Sans', verdana, arial, sans-serif; font-size: 14px; fill: rgb(42, 63, 95); opacity: 1; font-weight: normal; white-space: pre;\">Bigram</text></g><g class=\"g-ytitle\"><text class=\"ytitle\" transform=\"rotate(-90,38.934375,219.5)\" x=\"38.934375\" y=\"219.5\" text-anchor=\"middle\" style=\"font-family: 'Open Sans', verdana, arial, sans-serif; font-size: 14px; fill: rgb(42, 63, 95); opacity: 1; font-weight: normal; white-space: pre;\">Frequency</text></g></g></svg>"
      ]
     },
     "metadata": {},
     "output_type": "display_data"
    }
   ],
   "source": [
    "common_words = get_top_n_words(news_data['title1'], 25, 2)\n",
    "df = pd.DataFrame(common_words, columns = ['word' , 'count'])\n",
    "df.groupby('word').sum()['count'].sort_values(ascending=False)\n",
    "fig = px.bar(df, x=\"word\", y=\"count\",\n",
    "            title=\"Top 25 bigrams for title\",\n",
    "             labels={\n",
    "                     \"count\": \"Frequency\",\n",
    "                     'word': \"Bigram\"\n",
    "                 })\n",
    "# Customize aspect\n",
    "fig.update_traces(marker_color='cadetblue', marker_line_color='cadetblue',\n",
    "                  marker_line_width=1.5, opacity=0.6)\n",
    "#fig.show()\n",
    "fig.show(renderer=\"svg\")"
   ]
  },
  {
   "cell_type": "code",
   "execution_count": 18,
   "id": "e10098c3",
   "metadata": {},
   "outputs": [],
   "source": [
    "news_data.to_excel(directory_path + \"/dat/03_newsContentProprocess.xlsx\")"
   ]
  },
  {
   "cell_type": "code",
   "execution_count": null,
   "id": "b4c5d948",
   "metadata": {},
   "outputs": [],
   "source": []
  }
 ],
 "metadata": {
  "kernelspec": {
   "display_name": "Python 3 (ipykernel)",
   "language": "python",
   "name": "python3"
  },
  "language_info": {
   "codemirror_mode": {
    "name": "ipython",
    "version": 3
   },
   "file_extension": ".py",
   "mimetype": "text/x-python",
   "name": "python",
   "nbconvert_exporter": "python",
   "pygments_lexer": "ipython3",
   "version": "3.8.13"
  }
 },
 "nbformat": 4,
 "nbformat_minor": 5
}
