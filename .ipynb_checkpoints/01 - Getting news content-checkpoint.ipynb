{
 "cells": [
  {
   "cell_type": "markdown",
   "id": "46204699",
   "metadata": {},
   "source": [
    "#  01 - Getting news content\n"
   ]
  },
  {
   "cell_type": "markdown",
   "id": "e71424db",
   "metadata": {},
   "source": [
    "We proceed to extract the content of the links previously obtained."
   ]
  },
  {
   "cell_type": "code",
   "execution_count": 1,
   "id": "cbc537b3",
   "metadata": {},
   "outputs": [],
   "source": [
    "# libraries\n",
    "import pandas as pd\n",
    "import os\n",
    "from newspaper import Article\n",
    "from newspaper import Config\n",
    "user_agent = 'Mozilla/5.0 (Macintosh; Intel Mac OS X 10.15; rv:78.0) Gecko/20100101 Firefox/78.0'\n",
    "config = Config()\n",
    "config.browser_user_agent = user_agent\n",
    "import re"
   ]
  },
  {
   "cell_type": "code",
   "execution_count": 2,
   "id": "f16fe5c4",
   "metadata": {},
   "outputs": [],
   "source": [
    "# Global definitions\n",
    "directory_path = os.getcwd()"
   ]
  },
  {
   "cell_type": "markdown",
   "id": "4c682dad",
   "metadata": {},
   "source": [
    "# Get info news"
   ]
  },
  {
   "cell_type": "code",
   "execution_count": 3,
   "id": "5ccab27a",
   "metadata": {},
   "outputs": [],
   "source": [
    "path_csv = directory_path + \"/dat/00_newsWebScrapping.csv\"\n",
    "df = pd.read_csv(path_csv, encoding = \"cp1252\", header = None,\n",
    "  sep = ',',\n",
    "  names = ['link'], on_bad_lines='warn')"
   ]
  },
  {
   "cell_type": "code",
   "execution_count": 5,
   "id": "0dffbf85",
   "metadata": {},
   "outputs": [],
   "source": [
    "df = df.drop_duplicates()"
   ]
  },
  {
   "cell_type": "code",
   "execution_count": 4,
   "id": "ead8e184",
   "metadata": {},
   "outputs": [],
   "source": [
    "df1 = pd.DataFrame([])"
   ]
  },
  {
   "cell_type": "code",
   "execution_count": 6,
   "id": "c39f9348",
   "metadata": {},
   "outputs": [
    {
     "name": "stderr",
     "output_type": "stream",
     "text": [
      "C:\\Users\\anama\\anaconda3\\envs\\MDA\\lib\\site-packages\\dateutil\\parser\\_parser.py:1207: UnknownTimezoneWarning: tzname PDT identified but not understood.  Pass `tzinfos` argument in order to correctly return a timezone-aware datetime.  In a future version, this will raise an exception.\n",
      "  warnings.warn(\"tzname {tzname} identified but not understood.  \"\n",
      "C:\\Users\\anama\\anaconda3\\envs\\MDA\\lib\\site-packages\\dateutil\\parser\\_parser.py:1207: UnknownTimezoneWarning: tzname IST identified but not understood.  Pass `tzinfos` argument in order to correctly return a timezone-aware datetime.  In a future version, this will raise an exception.\n",
      "  warnings.warn(\"tzname {tzname} identified but not understood.  \"\n"
     ]
    }
   ],
   "source": [
    "for index, row in df.iterrows():\n",
    "    url = row['link']\n",
    "    url = re.sub(r\"\\s+\", \"\", url)\n",
    "    article = Article(url)\n",
    "    try:\n",
    "        article.download()\n",
    "        article.parse()\n",
    "        article.nlp()\n",
    "        vector = [url, article.title, article.text, article.keywords, article.summary]\n",
    "        vector = pd.DataFrame(vector).transpose()\n",
    "        df1 = pd.concat([df1,vector])\n",
    "    except:\n",
    "        continue\n",
    "    \n"
   ]
  },
  {
   "cell_type": "code",
   "execution_count": 7,
   "id": "0dc8ad1b",
   "metadata": {},
   "outputs": [],
   "source": [
    "df1.columns = ['link', 'title', 'text', 'keywords', 'summary']"
   ]
  },
  {
   "cell_type": "code",
   "execution_count": 8,
   "id": "8e737f46",
   "metadata": {},
   "outputs": [
    {
     "data": {
      "text/html": [
       "<div>\n",
       "<style scoped>\n",
       "    .dataframe tbody tr th:only-of-type {\n",
       "        vertical-align: middle;\n",
       "    }\n",
       "\n",
       "    .dataframe tbody tr th {\n",
       "        vertical-align: top;\n",
       "    }\n",
       "\n",
       "    .dataframe thead th {\n",
       "        text-align: right;\n",
       "    }\n",
       "</style>\n",
       "<table border=\"1\" class=\"dataframe\">\n",
       "  <thead>\n",
       "    <tr style=\"text-align: right;\">\n",
       "      <th></th>\n",
       "      <th>link</th>\n",
       "      <th>title</th>\n",
       "      <th>text</th>\n",
       "      <th>keywords</th>\n",
       "      <th>publish_date</th>\n",
       "      <th>summary</th>\n",
       "    </tr>\n",
       "  </thead>\n",
       "  <tbody>\n",
       "    <tr>\n",
       "      <th>0</th>\n",
       "      <td>https://www.cbc.ca/news/science/naming-heat-wa...</td>\n",
       "      <td>International project to name heat waves met w...</td>\n",
       "      <td>As climate change makes heat waves worse, an i...</td>\n",
       "      <td>[world, intrigue, project, international, skep...</td>\n",
       "      <td>NaT</td>\n",
       "      <td>As climate change makes heat waves worse, an i...</td>\n",
       "    </tr>\n",
       "    <tr>\n",
       "      <th>0</th>\n",
       "      <td>https://www.dw.com/en/germany-battles-heat-wav...</td>\n",
       "      <td>Germany battles heat waves with drinking water...</td>\n",
       "      <td>At the drinking fountain outside Berlin's busy...</td>\n",
       "      <td>[water, fountains, tap, fountain, bottles, bat...</td>\n",
       "      <td>NaT</td>\n",
       "      <td>\"It can only be a good thing to have more drin...</td>\n",
       "    </tr>\n",
       "    <tr>\n",
       "      <th>0</th>\n",
       "      <td>https://www.foxweather.com/weather-news/heat-w...</td>\n",
       "      <td>Streaking in the 90s: Cities across US set rec...</td>\n",
       "      <td>An extended heat wave gripping the Northeast o...</td>\n",
       "      <td>[90, days, degrees, set, record, streaking, he...</td>\n",
       "      <td>NaT</td>\n",
       "      <td>An extended heat wave gripping the Northeast o...</td>\n",
       "    </tr>\n",
       "    <tr>\n",
       "      <th>0</th>\n",
       "      <td>https://www.usatoday.com/story/news/nation/202...</td>\n",
       "      <td>Weather forecast: Heat waves may now get names...</td>\n",
       "      <td>This summer, Seville, a city in southwestern S...</td>\n",
       "      <td>[temperatures, forecast, olalla, degrees, name...</td>\n",
       "      <td>2022-08-13 00:00:00</td>\n",
       "      <td>This summer, Seville, a city in southwestern S...</td>\n",
       "    </tr>\n",
       "    <tr>\n",
       "      <th>0</th>\n",
       "      <td>https://www.grid.news/story/climate/2022/08/09...</td>\n",
       "      <td>Extreme heat waves show the ultimate climate i...</td>\n",
       "      <td>The road to an unlivable climate isn’t exactly...</td>\n",
       "      <td>[temperatures, thought, extreme, degrees, wetb...</td>\n",
       "      <td>2022-08-09 00:00:00</td>\n",
       "      <td>The road to an unlivable climate isn’t exactly...</td>\n",
       "    </tr>\n",
       "    <tr>\n",
       "      <th>...</th>\n",
       "      <td>...</td>\n",
       "      <td>...</td>\n",
       "      <td>...</td>\n",
       "      <td>...</td>\n",
       "      <td>...</td>\n",
       "      <td>...</td>\n",
       "    </tr>\n",
       "    <tr>\n",
       "      <th>0</th>\n",
       "      <td>https://www.dw.com/en/climate-crisis-heat-baby...</td>\n",
       "      <td>Indian heatwaves threaten maternal and baby he...</td>\n",
       "      <td>The heatwave that swept across South Asia in A...</td>\n",
       "      <td>[temperatures, india, hospital, heatwaves, hea...</td>\n",
       "      <td>None</td>\n",
       "      <td>With climate change exacerbating extreme heat ...</td>\n",
       "    </tr>\n",
       "    <tr>\n",
       "      <th>0</th>\n",
       "      <td>https://www.gov.uk/government/publications/hea...</td>\n",
       "      <td>Looking after children and those in early year...</td>\n",
       "      <td>Children’s susceptibility to high temperatures...</td>\n",
       "      <td>[temperatures, looking, professionals, heatwav...</td>\n",
       "      <td>None</td>\n",
       "      <td>Children’s susceptibility to high temperatures...</td>\n",
       "    </tr>\n",
       "    <tr>\n",
       "      <th>0</th>\n",
       "      <td>https://www.ft.com/content/48f20f75-92aa-40d5-...</td>\n",
       "      <td>Subscribe to read</td>\n",
       "      <td>Cookies on FT Sites\\n\\nWe use cookies for a nu...</td>\n",
       "      <td>[reasons, read, providing, secure, social, sub...</td>\n",
       "      <td>None</td>\n",
       "      <td>Cookies on FT SitesWe use cookies for a number...</td>\n",
       "    </tr>\n",
       "    <tr>\n",
       "      <th>0</th>\n",
       "      <td>https://theconversation.com/a-climate-scientis...</td>\n",
       "      <td>A climate scientist on India and Pakistan’s ho...</td>\n",
       "      <td>The record-shattering heatwave that engulfed m...</td>\n",
       "      <td>[india, temperatures, pakistan, days, heatwave...</td>\n",
       "      <td>2022-05-06 03:57:10+00:00</td>\n",
       "      <td>This is particularly dire for India and Pakist...</td>\n",
       "    </tr>\n",
       "    <tr>\n",
       "      <th>0</th>\n",
       "      <td>https://scitechdaily.com/most-extreme-heatwave...</td>\n",
       "      <td>Most Extreme Heatwaves Ever Recorded Globally ...</td>\n",
       "      <td>A new research study has revealed the most int...</td>\n",
       "      <td>[recorded, extreme, revealed, heatwaves, resea...</td>\n",
       "      <td>2022-05-07 02:36:39-07:00</td>\n",
       "      <td>A new research study has revealed the most int...</td>\n",
       "    </tr>\n",
       "  </tbody>\n",
       "</table>\n",
       "<p>461 rows × 6 columns</p>\n",
       "</div>"
      ],
      "text/plain": [
       "                                                 link  \\\n",
       "0   https://www.cbc.ca/news/science/naming-heat-wa...   \n",
       "0   https://www.dw.com/en/germany-battles-heat-wav...   \n",
       "0   https://www.foxweather.com/weather-news/heat-w...   \n",
       "0   https://www.usatoday.com/story/news/nation/202...   \n",
       "0   https://www.grid.news/story/climate/2022/08/09...   \n",
       "..                                                ...   \n",
       "0   https://www.dw.com/en/climate-crisis-heat-baby...   \n",
       "0   https://www.gov.uk/government/publications/hea...   \n",
       "0   https://www.ft.com/content/48f20f75-92aa-40d5-...   \n",
       "0   https://theconversation.com/a-climate-scientis...   \n",
       "0   https://scitechdaily.com/most-extreme-heatwave...   \n",
       "\n",
       "                                                title  \\\n",
       "0   International project to name heat waves met w...   \n",
       "0   Germany battles heat waves with drinking water...   \n",
       "0   Streaking in the 90s: Cities across US set rec...   \n",
       "0   Weather forecast: Heat waves may now get names...   \n",
       "0   Extreme heat waves show the ultimate climate i...   \n",
       "..                                                ...   \n",
       "0   Indian heatwaves threaten maternal and baby he...   \n",
       "0   Looking after children and those in early year...   \n",
       "0                                   Subscribe to read   \n",
       "0   A climate scientist on India and Pakistan’s ho...   \n",
       "0   Most Extreme Heatwaves Ever Recorded Globally ...   \n",
       "\n",
       "                                                 text  \\\n",
       "0   As climate change makes heat waves worse, an i...   \n",
       "0   At the drinking fountain outside Berlin's busy...   \n",
       "0   An extended heat wave gripping the Northeast o...   \n",
       "0   This summer, Seville, a city in southwestern S...   \n",
       "0   The road to an unlivable climate isn’t exactly...   \n",
       "..                                                ...   \n",
       "0   The heatwave that swept across South Asia in A...   \n",
       "0   Children’s susceptibility to high temperatures...   \n",
       "0   Cookies on FT Sites\\n\\nWe use cookies for a nu...   \n",
       "0   The record-shattering heatwave that engulfed m...   \n",
       "0   A new research study has revealed the most int...   \n",
       "\n",
       "                                             keywords  \\\n",
       "0   [world, intrigue, project, international, skep...   \n",
       "0   [water, fountains, tap, fountain, bottles, bat...   \n",
       "0   [90, days, degrees, set, record, streaking, he...   \n",
       "0   [temperatures, forecast, olalla, degrees, name...   \n",
       "0   [temperatures, thought, extreme, degrees, wetb...   \n",
       "..                                                ...   \n",
       "0   [temperatures, india, hospital, heatwaves, hea...   \n",
       "0   [temperatures, looking, professionals, heatwav...   \n",
       "0   [reasons, read, providing, secure, social, sub...   \n",
       "0   [india, temperatures, pakistan, days, heatwave...   \n",
       "0   [recorded, extreme, revealed, heatwaves, resea...   \n",
       "\n",
       "                 publish_date  \\\n",
       "0                         NaT   \n",
       "0                         NaT   \n",
       "0                         NaT   \n",
       "0         2022-08-13 00:00:00   \n",
       "0         2022-08-09 00:00:00   \n",
       "..                        ...   \n",
       "0                        None   \n",
       "0                        None   \n",
       "0                        None   \n",
       "0   2022-05-06 03:57:10+00:00   \n",
       "0   2022-05-07 02:36:39-07:00   \n",
       "\n",
       "                                              summary  \n",
       "0   As climate change makes heat waves worse, an i...  \n",
       "0   \"It can only be a good thing to have more drin...  \n",
       "0   An extended heat wave gripping the Northeast o...  \n",
       "0   This summer, Seville, a city in southwestern S...  \n",
       "0   The road to an unlivable climate isn’t exactly...  \n",
       "..                                                ...  \n",
       "0   With climate change exacerbating extreme heat ...  \n",
       "0   Children’s susceptibility to high temperatures...  \n",
       "0   Cookies on FT SitesWe use cookies for a number...  \n",
       "0   This is particularly dire for India and Pakist...  \n",
       "0   A new research study has revealed the most int...  \n",
       "\n",
       "[461 rows x 6 columns]"
      ]
     },
     "execution_count": 8,
     "metadata": {},
     "output_type": "execute_result"
    }
   ],
   "source": [
    "df1"
   ]
  },
  {
   "cell_type": "code",
   "execution_count": 9,
   "id": "ff70ac24",
   "metadata": {},
   "outputs": [
    {
     "ename": "ValueError",
     "evalue": "Excel does not support datetimes with timezones. Please ensure that datetimes are timezone unaware before writing to Excel.",
     "output_type": "error",
     "traceback": [
      "\u001b[1;31m---------------------------------------------------------------------------\u001b[0m",
      "\u001b[1;31mValueError\u001b[0m                                Traceback (most recent call last)",
      "Input \u001b[1;32mIn [9]\u001b[0m, in \u001b[0;36m<cell line: 1>\u001b[1;34m()\u001b[0m\n\u001b[1;32m----> 1\u001b[0m \u001b[43mdf1\u001b[49m\u001b[38;5;241;43m.\u001b[39;49m\u001b[43mto_excel\u001b[49m\u001b[43m(\u001b[49m\u001b[43mdirectory_path\u001b[49m\u001b[43m \u001b[49m\u001b[38;5;241;43m+\u001b[39;49m\u001b[43m \u001b[49m\u001b[38;5;124;43m\"\u001b[39;49m\u001b[38;5;124;43m/dat/01_newsContent.xlsx\u001b[39;49m\u001b[38;5;124;43m\"\u001b[39;49m\u001b[43m)\u001b[49m\n",
      "File \u001b[1;32m~\\anaconda3\\envs\\MDA\\lib\\site-packages\\pandas\\core\\generic.py:2345\u001b[0m, in \u001b[0;36mNDFrame.to_excel\u001b[1;34m(self, excel_writer, sheet_name, na_rep, float_format, columns, header, index, index_label, startrow, startcol, engine, merge_cells, encoding, inf_rep, verbose, freeze_panes, storage_options)\u001b[0m\n\u001b[0;32m   2332\u001b[0m \u001b[38;5;28;01mfrom\u001b[39;00m \u001b[38;5;21;01mpandas\u001b[39;00m\u001b[38;5;21;01m.\u001b[39;00m\u001b[38;5;21;01mio\u001b[39;00m\u001b[38;5;21;01m.\u001b[39;00m\u001b[38;5;21;01mformats\u001b[39;00m\u001b[38;5;21;01m.\u001b[39;00m\u001b[38;5;21;01mexcel\u001b[39;00m \u001b[38;5;28;01mimport\u001b[39;00m ExcelFormatter\n\u001b[0;32m   2334\u001b[0m formatter \u001b[38;5;241m=\u001b[39m ExcelFormatter(\n\u001b[0;32m   2335\u001b[0m     df,\n\u001b[0;32m   2336\u001b[0m     na_rep\u001b[38;5;241m=\u001b[39mna_rep,\n\u001b[1;32m   (...)\u001b[0m\n\u001b[0;32m   2343\u001b[0m     inf_rep\u001b[38;5;241m=\u001b[39minf_rep,\n\u001b[0;32m   2344\u001b[0m )\n\u001b[1;32m-> 2345\u001b[0m \u001b[43mformatter\u001b[49m\u001b[38;5;241;43m.\u001b[39;49m\u001b[43mwrite\u001b[49m\u001b[43m(\u001b[49m\n\u001b[0;32m   2346\u001b[0m \u001b[43m    \u001b[49m\u001b[43mexcel_writer\u001b[49m\u001b[43m,\u001b[49m\n\u001b[0;32m   2347\u001b[0m \u001b[43m    \u001b[49m\u001b[43msheet_name\u001b[49m\u001b[38;5;241;43m=\u001b[39;49m\u001b[43msheet_name\u001b[49m\u001b[43m,\u001b[49m\n\u001b[0;32m   2348\u001b[0m \u001b[43m    \u001b[49m\u001b[43mstartrow\u001b[49m\u001b[38;5;241;43m=\u001b[39;49m\u001b[43mstartrow\u001b[49m\u001b[43m,\u001b[49m\n\u001b[0;32m   2349\u001b[0m \u001b[43m    \u001b[49m\u001b[43mstartcol\u001b[49m\u001b[38;5;241;43m=\u001b[39;49m\u001b[43mstartcol\u001b[49m\u001b[43m,\u001b[49m\n\u001b[0;32m   2350\u001b[0m \u001b[43m    \u001b[49m\u001b[43mfreeze_panes\u001b[49m\u001b[38;5;241;43m=\u001b[39;49m\u001b[43mfreeze_panes\u001b[49m\u001b[43m,\u001b[49m\n\u001b[0;32m   2351\u001b[0m \u001b[43m    \u001b[49m\u001b[43mengine\u001b[49m\u001b[38;5;241;43m=\u001b[39;49m\u001b[43mengine\u001b[49m\u001b[43m,\u001b[49m\n\u001b[0;32m   2352\u001b[0m \u001b[43m    \u001b[49m\u001b[43mstorage_options\u001b[49m\u001b[38;5;241;43m=\u001b[39;49m\u001b[43mstorage_options\u001b[49m\u001b[43m,\u001b[49m\n\u001b[0;32m   2353\u001b[0m \u001b[43m\u001b[49m\u001b[43m)\u001b[49m\n",
      "File \u001b[1;32m~\\anaconda3\\envs\\MDA\\lib\\site-packages\\pandas\\io\\formats\\excel.py:894\u001b[0m, in \u001b[0;36mExcelFormatter.write\u001b[1;34m(self, writer, sheet_name, startrow, startcol, freeze_panes, engine, storage_options)\u001b[0m\n\u001b[0;32m    891\u001b[0m     need_save \u001b[38;5;241m=\u001b[39m \u001b[38;5;28;01mTrue\u001b[39;00m\n\u001b[0;32m    893\u001b[0m \u001b[38;5;28;01mtry\u001b[39;00m:\n\u001b[1;32m--> 894\u001b[0m     \u001b[43mwriter\u001b[49m\u001b[38;5;241;43m.\u001b[39;49m\u001b[43mwrite_cells\u001b[49m\u001b[43m(\u001b[49m\n\u001b[0;32m    895\u001b[0m \u001b[43m        \u001b[49m\u001b[43mformatted_cells\u001b[49m\u001b[43m,\u001b[49m\n\u001b[0;32m    896\u001b[0m \u001b[43m        \u001b[49m\u001b[43msheet_name\u001b[49m\u001b[43m,\u001b[49m\n\u001b[0;32m    897\u001b[0m \u001b[43m        \u001b[49m\u001b[43mstartrow\u001b[49m\u001b[38;5;241;43m=\u001b[39;49m\u001b[43mstartrow\u001b[49m\u001b[43m,\u001b[49m\n\u001b[0;32m    898\u001b[0m \u001b[43m        \u001b[49m\u001b[43mstartcol\u001b[49m\u001b[38;5;241;43m=\u001b[39;49m\u001b[43mstartcol\u001b[49m\u001b[43m,\u001b[49m\n\u001b[0;32m    899\u001b[0m \u001b[43m        \u001b[49m\u001b[43mfreeze_panes\u001b[49m\u001b[38;5;241;43m=\u001b[39;49m\u001b[43mfreeze_panes\u001b[49m\u001b[43m,\u001b[49m\n\u001b[0;32m    900\u001b[0m \u001b[43m    \u001b[49m\u001b[43m)\u001b[49m\n\u001b[0;32m    901\u001b[0m \u001b[38;5;28;01mfinally\u001b[39;00m:\n\u001b[0;32m    902\u001b[0m     \u001b[38;5;66;03m# make sure to close opened file handles\u001b[39;00m\n\u001b[0;32m    903\u001b[0m     \u001b[38;5;28;01mif\u001b[39;00m need_save:\n",
      "File \u001b[1;32m~\\anaconda3\\envs\\MDA\\lib\\site-packages\\pandas\\io\\excel\\_openpyxl.py:460\u001b[0m, in \u001b[0;36mOpenpyxlWriter.write_cells\u001b[1;34m(self, cells, sheet_name, startrow, startcol, freeze_panes)\u001b[0m\n\u001b[0;32m    455\u001b[0m \u001b[38;5;28;01mif\u001b[39;00m validate_freeze_panes(freeze_panes):\n\u001b[0;32m    456\u001b[0m     wks\u001b[38;5;241m.\u001b[39mfreeze_panes \u001b[38;5;241m=\u001b[39m wks\u001b[38;5;241m.\u001b[39mcell(\n\u001b[0;32m    457\u001b[0m         row\u001b[38;5;241m=\u001b[39mfreeze_panes[\u001b[38;5;241m0\u001b[39m] \u001b[38;5;241m+\u001b[39m \u001b[38;5;241m1\u001b[39m, column\u001b[38;5;241m=\u001b[39mfreeze_panes[\u001b[38;5;241m1\u001b[39m] \u001b[38;5;241m+\u001b[39m \u001b[38;5;241m1\u001b[39m\n\u001b[0;32m    458\u001b[0m     )\n\u001b[1;32m--> 460\u001b[0m \u001b[38;5;28;01mfor\u001b[39;00m cell \u001b[38;5;129;01min\u001b[39;00m cells:\n\u001b[0;32m    461\u001b[0m     xcell \u001b[38;5;241m=\u001b[39m wks\u001b[38;5;241m.\u001b[39mcell(\n\u001b[0;32m    462\u001b[0m         row\u001b[38;5;241m=\u001b[39mstartrow \u001b[38;5;241m+\u001b[39m cell\u001b[38;5;241m.\u001b[39mrow \u001b[38;5;241m+\u001b[39m \u001b[38;5;241m1\u001b[39m, column\u001b[38;5;241m=\u001b[39mstartcol \u001b[38;5;241m+\u001b[39m cell\u001b[38;5;241m.\u001b[39mcol \u001b[38;5;241m+\u001b[39m \u001b[38;5;241m1\u001b[39m\n\u001b[0;32m    463\u001b[0m     )\n\u001b[0;32m    464\u001b[0m     xcell\u001b[38;5;241m.\u001b[39mvalue, fmt \u001b[38;5;241m=\u001b[39m \u001b[38;5;28mself\u001b[39m\u001b[38;5;241m.\u001b[39m_value_with_fmt(cell\u001b[38;5;241m.\u001b[39mval)\n",
      "File \u001b[1;32m~\\anaconda3\\envs\\MDA\\lib\\site-packages\\pandas\\io\\formats\\excel.py:832\u001b[0m, in \u001b[0;36mExcelFormatter.get_formatted_cells\u001b[1;34m(self)\u001b[0m\n\u001b[0;32m    830\u001b[0m \u001b[38;5;28;01mdef\u001b[39;00m \u001b[38;5;21mget_formatted_cells\u001b[39m(\u001b[38;5;28mself\u001b[39m) \u001b[38;5;241m-\u001b[39m\u001b[38;5;241m>\u001b[39m Iterable[ExcelCell]:\n\u001b[0;32m    831\u001b[0m     \u001b[38;5;28;01mfor\u001b[39;00m cell \u001b[38;5;129;01min\u001b[39;00m itertools\u001b[38;5;241m.\u001b[39mchain(\u001b[38;5;28mself\u001b[39m\u001b[38;5;241m.\u001b[39m_format_header(), \u001b[38;5;28mself\u001b[39m\u001b[38;5;241m.\u001b[39m_format_body()):\n\u001b[1;32m--> 832\u001b[0m         cell\u001b[38;5;241m.\u001b[39mval \u001b[38;5;241m=\u001b[39m \u001b[38;5;28;43mself\u001b[39;49m\u001b[38;5;241;43m.\u001b[39;49m\u001b[43m_format_value\u001b[49m\u001b[43m(\u001b[49m\u001b[43mcell\u001b[49m\u001b[38;5;241;43m.\u001b[39;49m\u001b[43mval\u001b[49m\u001b[43m)\u001b[49m\n\u001b[0;32m    833\u001b[0m         \u001b[38;5;28;01myield\u001b[39;00m cell\n",
      "File \u001b[1;32m~\\anaconda3\\envs\\MDA\\lib\\site-packages\\pandas\\io\\formats\\excel.py:547\u001b[0m, in \u001b[0;36mExcelFormatter._format_value\u001b[1;34m(self, val)\u001b[0m\n\u001b[0;32m    545\u001b[0m         val \u001b[38;5;241m=\u001b[39m \u001b[38;5;28mfloat\u001b[39m(\u001b[38;5;28mself\u001b[39m\u001b[38;5;241m.\u001b[39mfloat_format \u001b[38;5;241m%\u001b[39m val)\n\u001b[0;32m    546\u001b[0m \u001b[38;5;28;01mif\u001b[39;00m \u001b[38;5;28mgetattr\u001b[39m(val, \u001b[38;5;124m\"\u001b[39m\u001b[38;5;124mtzinfo\u001b[39m\u001b[38;5;124m\"\u001b[39m, \u001b[38;5;28;01mNone\u001b[39;00m) \u001b[38;5;129;01mis\u001b[39;00m \u001b[38;5;129;01mnot\u001b[39;00m \u001b[38;5;28;01mNone\u001b[39;00m:\n\u001b[1;32m--> 547\u001b[0m     \u001b[38;5;28;01mraise\u001b[39;00m \u001b[38;5;167;01mValueError\u001b[39;00m(\n\u001b[0;32m    548\u001b[0m         \u001b[38;5;124m\"\u001b[39m\u001b[38;5;124mExcel does not support datetimes with \u001b[39m\u001b[38;5;124m\"\u001b[39m\n\u001b[0;32m    549\u001b[0m         \u001b[38;5;124m\"\u001b[39m\u001b[38;5;124mtimezones. Please ensure that datetimes \u001b[39m\u001b[38;5;124m\"\u001b[39m\n\u001b[0;32m    550\u001b[0m         \u001b[38;5;124m\"\u001b[39m\u001b[38;5;124mare timezone unaware before writing to Excel.\u001b[39m\u001b[38;5;124m\"\u001b[39m\n\u001b[0;32m    551\u001b[0m     )\n\u001b[0;32m    552\u001b[0m \u001b[38;5;28;01mreturn\u001b[39;00m val\n",
      "\u001b[1;31mValueError\u001b[0m: Excel does not support datetimes with timezones. Please ensure that datetimes are timezone unaware before writing to Excel."
     ]
    }
   ],
   "source": [
    "df1.to_excel(directory_path + \"/dat/01_newsContent.xlsx\")"
   ]
  },
  {
   "cell_type": "code",
   "execution_count": null,
   "id": "3932ba31",
   "metadata": {},
   "outputs": [],
   "source": []
  }
 ],
 "metadata": {
  "kernelspec": {
   "display_name": "Python 3 (ipykernel)",
   "language": "python",
   "name": "python3"
  },
  "language_info": {
   "codemirror_mode": {
    "name": "ipython",
    "version": 3
   },
   "file_extension": ".py",
   "mimetype": "text/x-python",
   "name": "python",
   "nbconvert_exporter": "python",
   "pygments_lexer": "ipython3",
   "version": "3.8.13"
  }
 },
 "nbformat": 4,
 "nbformat_minor": 5
}
